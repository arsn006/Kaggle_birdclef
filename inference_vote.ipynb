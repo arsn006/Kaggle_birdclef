{
 "cells": [
  {
   "cell_type": "code",
   "execution_count": 1,
   "id": "veterinary-found",
   "metadata": {
    "colab": {
     "base_uri": "https://localhost:8080/"
    },
    "executionInfo": {
     "elapsed": 29770,
     "status": "ok",
     "timestamp": 1622563444029,
     "user": {
      "displayName": "中村有紗",
      "photoUrl": "",
      "userId": "01679400299700621239"
     },
     "user_tz": -540
    },
    "id": "veterinary-found",
    "outputId": "a7fd18ea-8a0a-4609-853f-5f73556081da",
    "papermill": {
     "duration": 0.024621,
     "end_time": "2021-04-17T20:51:29.502107",
     "exception": false,
     "start_time": "2021-04-17T20:51:29.477486",
     "status": "completed"
    },
    "tags": []
   },
   "outputs": [
    {
     "name": "stdout",
     "output_type": "stream",
     "text": [
      "Mounted at /content/drive\n"
     ]
    }
   ],
   "source": [
    "from google.colab import drive\n",
    "drive.mount('/content/drive')"
   ]
  },
  {
   "cell_type": "code",
   "execution_count": 2,
   "id": "OyUMJ6wZJyKY",
   "metadata": {
    "colab": {
     "base_uri": "https://localhost:8080/"
    },
    "executionInfo": {
     "elapsed": 254,
     "status": "ok",
     "timestamp": 1622563445641,
     "user": {
      "displayName": "中村有紗",
      "photoUrl": "",
      "userId": "01679400299700621239"
     },
     "user_tz": -540
    },
    "id": "OyUMJ6wZJyKY",
    "outputId": "f87b5f67-a6fe-4a57-dcbc-bd5555cc981c"
   },
   "outputs": [
    {
     "name": "stdout",
     "output_type": "stream",
     "text": [
      "\u001b[0m\u001b[01;34mdrive\u001b[0m/  \u001b[01;34msample_data\u001b[0m/\n"
     ]
    }
   ],
   "source": [
    "ls"
   ]
  },
  {
   "cell_type": "code",
   "execution_count": 3,
   "id": "e9BHhI37Hu6n",
   "metadata": {
    "colab": {
     "base_uri": "https://localhost:8080/"
    },
    "executionInfo": {
     "elapsed": 4,
     "status": "ok",
     "timestamp": 1622563446335,
     "user": {
      "displayName": "中村有紗",
      "photoUrl": "",
      "userId": "01679400299700621239"
     },
     "user_tz": -540
    },
    "id": "e9BHhI37Hu6n",
    "outputId": "3fe23828-79fb-47a4-f008-9158cec3c8a2"
   },
   "outputs": [
    {
     "name": "stdout",
     "output_type": "stream",
     "text": [
      "/content/drive/MyDrive/bird2/code\n"
     ]
    }
   ],
   "source": [
    "cd \"/content/drive/MyDrive/bird2/code\""
   ]
  },
  {
   "cell_type": "code",
   "execution_count": 4,
   "id": "perceived-graduate",
   "metadata": {
    "_cell_guid": "b1076dfc-b9ad-4769-8c92-a6c4dae69d19",
    "_uuid": "8f2839f25d086af736a60e9eeb907d3b93b6e0e5",
    "execution": {
     "iopub.execute_input": "2021-04-17T20:51:29.556241Z",
     "iopub.status.busy": "2021-04-17T20:51:29.555342Z",
     "iopub.status.idle": "2021-04-17T20:51:33.856204Z",
     "shell.execute_reply": "2021-04-17T20:51:33.855591Z"
    },
    "executionInfo": {
     "elapsed": 6463,
     "status": "ok",
     "timestamp": 1622563454263,
     "user": {
      "displayName": "中村有紗",
      "photoUrl": "",
      "userId": "01679400299700621239"
     },
     "user_tz": -540
    },
    "id": "perceived-graduate",
    "papermill": {
     "duration": 4.330295,
     "end_time": "2021-04-17T20:51:33.856351",
     "exception": false,
     "start_time": "2021-04-17T20:51:29.526056",
     "status": "completed"
    },
    "tags": []
   },
   "outputs": [],
   "source": [
    "import numpy as np\n",
    "import librosa as lb\n",
    "import soundfile as sf\n",
    "import pandas as pd\n",
    "import cv2\n",
    "from pathlib import Path\n",
    "import re\n",
    "\n",
    "import torch\n",
    "from torch import nn\n",
    "from  torch.utils.data import Dataset, DataLoader\n",
    "\n",
    "from tqdm.notebook import tqdm\n",
    "\n",
    "import time\n",
    "#from resnest.torch import resnest50"
   ]
  },
  {
   "cell_type": "code",
   "execution_count": 4,
   "id": "scheduled-circumstances",
   "metadata": {
    "executionInfo": {
     "elapsed": 380,
     "status": "ok",
     "timestamp": 1622563457296,
     "user": {
      "displayName": "中村有紗",
      "photoUrl": "",
      "userId": "01679400299700621239"
     },
     "user_tz": -540
    },
    "id": "scheduled-circumstances",
    "papermill": {
     "duration": 0.026928,
     "end_time": "2021-04-17T20:51:33.908008",
     "exception": false,
     "start_time": "2021-04-17T20:51:33.881080",
     "status": "completed"
    },
    "tags": []
   },
   "outputs": [],
   "source": []
  },
  {
   "cell_type": "code",
   "execution_count": 5,
   "id": "VvnA-KXyH1Y_",
   "metadata": {
    "colab": {
     "base_uri": "https://localhost:8080/"
    },
    "executionInfo": {
     "elapsed": 7329,
     "status": "ok",
     "timestamp": 1622563465512,
     "user": {
      "displayName": "中村有紗",
      "photoUrl": "",
      "userId": "01679400299700621239"
     },
     "user_tz": -540
    },
    "id": "VvnA-KXyH1Y_",
    "outputId": "bf797362-b598-404b-93d3-c72bb57aa01b"
   },
   "outputs": [
    {
     "name": "stdout",
     "output_type": "stream",
     "text": [
      "Collecting git+https://github.com/rwightman/pytorch-image-models.git\n",
      "  Cloning https://github.com/rwightman/pytorch-image-models.git to /tmp/pip-req-build-q36z8gar\n",
      "  Running command git clone -q https://github.com/rwightman/pytorch-image-models.git /tmp/pip-req-build-q36z8gar\n",
      "Requirement already satisfied: torch>=1.4 in /usr/local/lib/python3.7/dist-packages (from timm==0.4.11) (1.8.1+cu101)\n",
      "Requirement already satisfied: torchvision in /usr/local/lib/python3.7/dist-packages (from timm==0.4.11) (0.9.1+cu101)\n",
      "Requirement already satisfied: typing-extensions in /usr/local/lib/python3.7/dist-packages (from torch>=1.4->timm==0.4.11) (3.7.4.3)\n",
      "Requirement already satisfied: numpy in /usr/local/lib/python3.7/dist-packages (from torch>=1.4->timm==0.4.11) (1.19.5)\n",
      "Requirement already satisfied: pillow>=4.1.1 in /usr/local/lib/python3.7/dist-packages (from torchvision->timm==0.4.11) (7.1.2)\n",
      "Building wheels for collected packages: timm\n",
      "  Building wheel for timm (setup.py) ... \u001b[?25l\u001b[?25hdone\n",
      "  Created wheel for timm: filename=timm-0.4.11-cp37-none-any.whl size=372534 sha256=f56409685110b0a62b805fb7e9af6566b2ffb8140954689912d154a889e5ccfe\n",
      "  Stored in directory: /tmp/pip-ephem-wheel-cache-sug3av21/wheels/20/b8/27/66bb141495c14daa67474754678277959ca333a352dab313a5\n",
      "Successfully built timm\n",
      "Installing collected packages: timm\n",
      "Successfully installed timm-0.4.11\n"
     ]
    }
   ],
   "source": [
    "!pip install git+https://github.com/rwightman/pytorch-image-models.git"
   ]
  },
  {
   "cell_type": "code",
   "execution_count": 6,
   "id": "Xh2HRlKWH8F7",
   "metadata": {
    "executionInfo": {
     "elapsed": 332,
     "status": "ok",
     "timestamp": 1622563465841,
     "user": {
      "displayName": "中村有紗",
      "photoUrl": "",
      "userId": "01679400299700621239"
     },
     "user_tz": -540
    },
    "id": "Xh2HRlKWH8F7"
   },
   "outputs": [],
   "source": [
    "import timm"
   ]
  },
  {
   "cell_type": "markdown",
   "id": "stupid-anniversary",
   "metadata": {
    "id": "stupid-anniversary",
    "papermill": {
     "duration": 0.027154,
     "end_time": "2021-04-17T20:51:33.961217",
     "exception": false,
     "start_time": "2021-04-17T20:51:33.934063",
     "status": "completed"
    },
    "tags": []
   },
   "source": [
    "# Configs"
   ]
  },
  {
   "cell_type": "code",
   "execution_count": 7,
   "id": "mighty-invasion",
   "metadata": {
    "colab": {
     "base_uri": "https://localhost:8080/"
    },
    "execution": {
     "iopub.execute_input": "2021-04-17T20:51:34.703115Z",
     "iopub.status.busy": "2021-04-17T20:51:34.702231Z",
     "iopub.status.idle": "2021-04-17T20:51:34.718401Z",
     "shell.execute_reply": "2021-04-17T20:51:34.719371Z"
    },
    "executionInfo": {
     "elapsed": 541,
     "status": "ok",
     "timestamp": 1622563466379,
     "user": {
      "displayName": "中村有紗",
      "photoUrl": "",
      "userId": "01679400299700621239"
     },
     "user_tz": -540
    },
    "id": "mighty-invasion",
    "outputId": "7c7a5f0c-2cd3-4072-b488-329bbea7b13e",
    "papermill": {
     "duration": 0.733465,
     "end_time": "2021-04-17T20:51:34.719582",
     "exception": false,
     "start_time": "2021-04-17T20:51:33.986117",
     "status": "completed"
    },
    "tags": []
   },
   "outputs": [
    {
     "name": "stdout",
     "output_type": "stream",
     "text": [
      "DEVICE: cuda\n"
     ]
    }
   ],
   "source": [
    "NUM_CLASSES = 397\n",
    "SR = 32_000\n",
    "DURATION = 5\n",
    "THRESH = 0.27\n",
    "#THRESH = 0.3\n",
    "\n",
    "\n",
    "DEVICE = torch.device(\"cuda\" if torch.cuda.is_available() else \"cpu\")\n",
    "print(\"DEVICE:\", DEVICE)\n",
    "\n",
    "TEST_AUDIO_ROOT = Path(\"../input/birdclef-2021/test_soundscapes\")\n",
    "SAMPLE_SUB_PATH = \"../input/birdclef-2021/sample_submission.csv\"\n",
    "TARGET_PATH = None\n",
    "    \n",
    "if not len(list(TEST_AUDIO_ROOT.glob(\"*.ogg\"))):\n",
    "    TEST_AUDIO_ROOT = Path(\"../input/birdclef-2021/train_soundscapes\")\n",
    "    SAMPLE_SUB_PATH = None\n",
    "    # SAMPLE_SUB_PATH = \"../input/birdclef-2021/sample_submission.csv\"\n",
    "    TARGET_PATH = Path(\"../input/birdclef-2021/train_soundscape_labels.csv\")"
   ]
  },
  {
   "cell_type": "code",
   "execution_count": 7,
   "id": "sticky-solid",
   "metadata": {
    "executionInfo": {
     "elapsed": 413,
     "status": "ok",
     "timestamp": 1622563468741,
     "user": {
      "displayName": "中村有紗",
      "photoUrl": "",
      "userId": "01679400299700621239"
     },
     "user_tz": -540
    },
    "id": "sticky-solid",
    "papermill": {
     "duration": 0.051726,
     "end_time": "2021-04-17T20:51:34.825261",
     "exception": false,
     "start_time": "2021-04-17T20:51:34.773535",
     "status": "completed"
    },
    "tags": []
   },
   "outputs": [],
   "source": []
  },
  {
   "cell_type": "markdown",
   "id": "funded-sound",
   "metadata": {
    "id": "funded-sound",
    "papermill": {
     "duration": 0.045272,
     "end_time": "2021-04-17T20:51:34.918765",
     "exception": false,
     "start_time": "2021-04-17T20:51:34.873493",
     "status": "completed"
    },
    "tags": []
   },
   "source": [
    "# Data"
   ]
  },
  {
   "cell_type": "code",
   "execution_count": 8,
   "id": "preliminary-cleaning",
   "metadata": {
    "execution": {
     "iopub.execute_input": "2021-04-17T20:51:35.018841Z",
     "iopub.status.busy": "2021-04-17T20:51:35.018148Z",
     "iopub.status.idle": "2021-04-17T20:51:35.020716Z",
     "shell.execute_reply": "2021-04-17T20:51:35.025094Z"
    },
    "executionInfo": {
     "elapsed": 3,
     "status": "ok",
     "timestamp": 1622563468944,
     "user": {
      "displayName": "中村有紗",
      "photoUrl": "",
      "userId": "01679400299700621239"
     },
     "user_tz": -540
    },
    "id": "preliminary-cleaning",
    "papermill": {
     "duration": 0.06317,
     "end_time": "2021-04-17T20:51:35.025222",
     "exception": false,
     "start_time": "2021-04-17T20:51:34.962052",
     "status": "completed"
    },
    "tags": []
   },
   "outputs": [],
   "source": [
    "class MelSpecComputer:\n",
    "    def __init__(self, sr, n_mels, fmin, fmax, **kwargs):\n",
    "        self.sr = sr\n",
    "        self.n_mels = n_mels\n",
    "        self.fmin = fmin\n",
    "        self.fmax = fmax\n",
    "        kwargs[\"n_fft\"] = kwargs.get(\"n_fft\", self.sr//10)\n",
    "        kwargs[\"hop_length\"] = kwargs.get(\"hop_length\", self.sr//(10*4))\n",
    "        self.kwargs = kwargs\n",
    "\n",
    "    def __call__(self, y):\n",
    "\n",
    "        melspec = lb.feature.melspectrogram(\n",
    "            y, sr=self.sr, n_mels=self.n_mels, fmin=self.fmin, fmax=self.fmax, **self.kwargs,\n",
    "        )\n",
    "\n",
    "        melspec = lb.power_to_db(melspec).astype(np.float32)\n",
    "        return melspec"
   ]
  },
  {
   "cell_type": "code",
   "execution_count": 9,
   "id": "numeric-clause",
   "metadata": {
    "execution": {
     "iopub.execute_input": "2021-04-17T20:51:35.138372Z",
     "iopub.status.busy": "2021-04-17T20:51:35.137822Z",
     "iopub.status.idle": "2021-04-17T20:51:35.141722Z",
     "shell.execute_reply": "2021-04-17T20:51:35.141284Z"
    },
    "executionInfo": {
     "elapsed": 4,
     "status": "ok",
     "timestamp": 1622563469460,
     "user": {
      "displayName": "中村有紗",
      "photoUrl": "",
      "userId": "01679400299700621239"
     },
     "user_tz": -540
    },
    "id": "numeric-clause",
    "papermill": {
     "duration": 0.061735,
     "end_time": "2021-04-17T20:51:35.141839",
     "exception": false,
     "start_time": "2021-04-17T20:51:35.080104",
     "status": "completed"
    },
    "tags": []
   },
   "outputs": [],
   "source": [
    "def mono_to_color(X, eps=1e-6, mean=None, std=None):\n",
    "    mean = mean or X.mean()\n",
    "    std = std or X.std()\n",
    "    X = (X - mean) / (std + eps)\n",
    "    \n",
    "    _min, _max = X.min(), X.max()\n",
    "\n",
    "    if (_max - _min) > eps:\n",
    "        V = np.clip(X, _min, _max)\n",
    "        V = 255 * (V - _min) / (_max - _min)\n",
    "        V = V.astype(np.uint8)\n",
    "    else:\n",
    "        V = np.zeros_like(X, dtype=np.uint8)\n",
    "\n",
    "    return V\n",
    "\n",
    "def crop_or_pad(y, length):\n",
    "    if len(y) < length:\n",
    "        y = np.concatenate([y, length - np.zeros(len(y))])\n",
    "    elif len(y) > length:\n",
    "        y = y[:length]\n",
    "    return y"
   ]
  },
  {
   "cell_type": "code",
   "execution_count": 9,
   "id": "Z1c4H2btXWRk",
   "metadata": {
    "executionInfo": {
     "elapsed": 2,
     "status": "ok",
     "timestamp": 1622563470123,
     "user": {
      "displayName": "中村有紗",
      "photoUrl": "",
      "userId": "01679400299700621239"
     },
     "user_tz": -540
    },
    "id": "Z1c4H2btXWRk"
   },
   "outputs": [],
   "source": []
  },
  {
   "cell_type": "code",
   "execution_count": 10,
   "id": "CeufxcIFXTDW",
   "metadata": {
    "executionInfo": {
     "elapsed": 4,
     "status": "ok",
     "timestamp": 1622563471458,
     "user": {
      "displayName": "中村有紗",
      "photoUrl": "",
      "userId": "01679400299700621239"
     },
     "user_tz": -540
    },
    "id": "CeufxcIFXTDW"
   },
   "outputs": [],
   "source": [
    "# # swin用\n",
    "# RESIZE = 224\n",
    "\n",
    "# def resize(image, size=None):\n",
    "#     if size is not None:\n",
    "#         #print(\"1\",image.shape)\n",
    "#         image = image.transpose((1, 2, 0))\n",
    "#         #print(\"2\",image.shape)\n",
    "#         image = cv2.resize(image, (size, size))\n",
    "#         image = image.transpose((2, 0, 1))\n",
    "#         #print(\"3\",image.shape)\n",
    "\n",
    "#     return image"
   ]
  },
  {
   "cell_type": "code",
   "execution_count": 11,
   "id": "derived-graphic",
   "metadata": {
    "execution": {
     "iopub.execute_input": "2021-04-17T20:51:35.207403Z",
     "iopub.status.busy": "2021-04-17T20:51:35.201912Z",
     "iopub.status.idle": "2021-04-17T20:51:35.210055Z",
     "shell.execute_reply": "2021-04-17T20:51:35.210742Z"
    },
    "executionInfo": {
     "elapsed": 311,
     "status": "ok",
     "timestamp": 1622563472020,
     "user": {
      "displayName": "中村有紗",
      "photoUrl": "",
      "userId": "01679400299700621239"
     },
     "user_tz": -540
    },
    "id": "derived-graphic",
    "papermill": {
     "duration": 0.043151,
     "end_time": "2021-04-17T20:51:35.210921",
     "exception": false,
     "start_time": "2021-04-17T20:51:35.167770",
     "status": "completed"
    },
    "tags": []
   },
   "outputs": [],
   "source": [
    "class BirdCLEFDataset(Dataset):\n",
    "    def __init__(self, data, sr=SR, n_mels=128, fmin=0, fmax=None, duration=DURATION, step=None, res_type=\"kaiser_fast\", resample=True):\n",
    "        \n",
    "        self.data = data\n",
    "        \n",
    "        self.sr = sr\n",
    "        self.n_mels = n_mels\n",
    "        self.fmin = fmin\n",
    "        self.fmax = fmax or self.sr//2\n",
    "\n",
    "        self.duration = duration\n",
    "        self.audio_length = self.duration*self.sr\n",
    "        self.step = step or self.audio_length\n",
    "        \n",
    "        self.res_type = res_type\n",
    "        self.resample = resample\n",
    "\n",
    "        self.mel_spec_computer = MelSpecComputer(sr=self.sr, n_mels=self.n_mels, fmin=self.fmin,\n",
    "                                                 fmax=self.fmax)\n",
    "    def __len__(self):\n",
    "        return len(self.data)\n",
    "    \n",
    "    @staticmethod\n",
    "    def normalize(image):\n",
    "        image = image.astype(\"float32\", copy=False) / 255.0\n",
    "        image = np.stack([image, image, image])\n",
    "        return image\n",
    "    \n",
    "    def audio_to_image(self, audio):\n",
    "        melspec = self.mel_spec_computer(audio) \n",
    "        image = mono_to_color(melspec)\n",
    "        image = self.normalize(image)\n",
    "        return image\n",
    "\n",
    "    def read_file(self, filepath):\n",
    "        audio, orig_sr = sf.read(filepath, dtype=\"float32\")\n",
    "\n",
    "        if self.resample and orig_sr != self.sr:\n",
    "            audio = lb.resample(audio, orig_sr, self.sr, res_type=self.res_type)\n",
    "          \n",
    "        audios = []\n",
    "        for i in range(self.audio_length, len(audio) + self.step, self.step):\n",
    "            start = max(0, i - self.audio_length)\n",
    "            end = start + self.audio_length\n",
    "            audios.append(audio[start:end])\n",
    "            \n",
    "        if len(audios[-1]) < self.audio_length:\n",
    "            audios = audios[:-1]\n",
    "            \n",
    "        images = [self.audio_to_image(audio) for audio in audios]\n",
    "        # # swin ------\n",
    "        # images = []\n",
    "        # for audio in audios:\n",
    "        #     image = self.audio_to_image(audio)\n",
    "        #     image = resize(image, size=RESIZE)\n",
    "        #     images.append(image)\n",
    "        # # ------------\n",
    "        images = np.stack(images)\n",
    "        \n",
    "        return images\n",
    "    \n",
    "        \n",
    "    def __getitem__(self, idx):\n",
    "        return self.read_file(self.data.loc[idx, \"filepath\"])"
   ]
  },
  {
   "cell_type": "code",
   "execution_count": 12,
   "id": "recorded-mouse",
   "metadata": {
    "colab": {
     "base_uri": "https://localhost:8080/",
     "height": 306
    },
    "execution": {
     "iopub.execute_input": "2021-04-17T20:51:35.268112Z",
     "iopub.status.busy": "2021-04-17T20:51:35.267619Z",
     "iopub.status.idle": "2021-04-17T20:51:35.304151Z",
     "shell.execute_reply": "2021-04-17T20:51:35.304606Z"
    },
    "executionInfo": {
     "elapsed": 330,
     "status": "ok",
     "timestamp": 1622563473475,
     "user": {
      "displayName": "中村有紗",
      "photoUrl": "",
      "userId": "01679400299700621239"
     },
     "user_tz": -540
    },
    "id": "recorded-mouse",
    "outputId": "709d64a2-7e2d-42df-8bd5-f25675ca156e",
    "papermill": {
     "duration": 0.067136,
     "end_time": "2021-04-17T20:51:35.304735",
     "exception": false,
     "start_time": "2021-04-17T20:51:35.237599",
     "status": "completed"
    },
    "tags": []
   },
   "outputs": [
    {
     "name": "stdout",
     "output_type": "stream",
     "text": [
      "(20, 5)\n"
     ]
    },
    {
     "data": {
      "text/html": [
       "<div>\n",
       "<style scoped>\n",
       "    .dataframe tbody tr th:only-of-type {\n",
       "        vertical-align: middle;\n",
       "    }\n",
       "\n",
       "    .dataframe tbody tr th {\n",
       "        vertical-align: top;\n",
       "    }\n",
       "\n",
       "    .dataframe thead th {\n",
       "        text-align: right;\n",
       "    }\n",
       "</style>\n",
       "<table border=\"1\" class=\"dataframe\">\n",
       "  <thead>\n",
       "    <tr style=\"text-align: right;\">\n",
       "      <th></th>\n",
       "      <th>filename</th>\n",
       "      <th>id</th>\n",
       "      <th>site</th>\n",
       "      <th>date</th>\n",
       "      <th>filepath</th>\n",
       "    </tr>\n",
       "  </thead>\n",
       "  <tbody>\n",
       "    <tr>\n",
       "      <th>0</th>\n",
       "      <td>10534_SSW_20170429</td>\n",
       "      <td>10534</td>\n",
       "      <td>SSW</td>\n",
       "      <td>20170429</td>\n",
       "      <td>../input/birdclef-2021/train_soundscapes/10534...</td>\n",
       "    </tr>\n",
       "    <tr>\n",
       "      <th>1</th>\n",
       "      <td>11254_COR_20190904</td>\n",
       "      <td>11254</td>\n",
       "      <td>COR</td>\n",
       "      <td>20190904</td>\n",
       "      <td>../input/birdclef-2021/train_soundscapes/11254...</td>\n",
       "    </tr>\n",
       "    <tr>\n",
       "      <th>2</th>\n",
       "      <td>20152_SSW_20170805</td>\n",
       "      <td>20152</td>\n",
       "      <td>SSW</td>\n",
       "      <td>20170805</td>\n",
       "      <td>../input/birdclef-2021/train_soundscapes/20152...</td>\n",
       "    </tr>\n",
       "    <tr>\n",
       "      <th>3</th>\n",
       "      <td>18003_COR_20190904</td>\n",
       "      <td>18003</td>\n",
       "      <td>COR</td>\n",
       "      <td>20190904</td>\n",
       "      <td>../input/birdclef-2021/train_soundscapes/18003...</td>\n",
       "    </tr>\n",
       "    <tr>\n",
       "      <th>4</th>\n",
       "      <td>14473_SSW_20170701</td>\n",
       "      <td>14473</td>\n",
       "      <td>SSW</td>\n",
       "      <td>20170701</td>\n",
       "      <td>../input/birdclef-2021/train_soundscapes/14473...</td>\n",
       "    </tr>\n",
       "  </tbody>\n",
       "</table>\n",
       "</div>"
      ],
      "text/plain": [
       "             filename  ...                                           filepath\n",
       "0  10534_SSW_20170429  ...  ../input/birdclef-2021/train_soundscapes/10534...\n",
       "1  11254_COR_20190904  ...  ../input/birdclef-2021/train_soundscapes/11254...\n",
       "2  20152_SSW_20170805  ...  ../input/birdclef-2021/train_soundscapes/20152...\n",
       "3  18003_COR_20190904  ...  ../input/birdclef-2021/train_soundscapes/18003...\n",
       "4  14473_SSW_20170701  ...  ../input/birdclef-2021/train_soundscapes/14473...\n",
       "\n",
       "[5 rows x 5 columns]"
      ]
     },
     "execution_count": 12,
     "metadata": {
      "tags": []
     },
     "output_type": "execute_result"
    }
   ],
   "source": [
    "data = pd.DataFrame(\n",
    "     [(path.stem, *path.stem.split(\"_\"), path) for path in Path(TEST_AUDIO_ROOT).glob(\"*.ogg\")],\n",
    "    columns = [\"filename\", \"id\", \"site\", \"date\", \"filepath\"]\n",
    ")\n",
    "print(data.shape)\n",
    "data.head()"
   ]
  },
  {
   "cell_type": "code",
   "execution_count": 13,
   "id": "written-beach",
   "metadata": {
    "execution": {
     "iopub.execute_input": "2021-04-17T20:51:35.361709Z",
     "iopub.status.busy": "2021-04-17T20:51:35.361183Z",
     "iopub.status.idle": "2021-04-17T20:51:35.798558Z",
     "shell.execute_reply": "2021-04-17T20:51:35.797733Z"
    },
    "executionInfo": {
     "elapsed": 1321,
     "status": "ok",
     "timestamp": 1622563476527,
     "user": {
      "displayName": "中村有紗",
      "photoUrl": "",
      "userId": "01679400299700621239"
     },
     "user_tz": -540
    },
    "id": "written-beach",
    "papermill": {
     "duration": 0.468685,
     "end_time": "2021-04-17T20:51:35.798730",
     "exception": false,
     "start_time": "2021-04-17T20:51:35.330045",
     "status": "completed"
    },
    "tags": []
   },
   "outputs": [],
   "source": [
    "df_train = pd.read_csv(\"../input/birdclef-2021/train_metadata.csv\")\n",
    "\n",
    "LABEL_IDS = {label: label_id for label_id,label in enumerate(sorted(df_train[\"primary_label\"].unique()))}\n",
    "INV_LABEL_IDS = {val: key for key,val in LABEL_IDS.items()}"
   ]
  },
  {
   "cell_type": "code",
   "execution_count": 13,
   "id": "hourly-peripheral",
   "metadata": {
    "executionInfo": {
     "elapsed": 9,
     "status": "ok",
     "timestamp": 1622563476529,
     "user": {
      "displayName": "中村有紗",
      "photoUrl": "",
      "userId": "01679400299700621239"
     },
     "user_tz": -540
    },
    "id": "hourly-peripheral",
    "papermill": {
     "duration": 0.028856,
     "end_time": "2021-04-17T20:51:35.854642",
     "exception": false,
     "start_time": "2021-04-17T20:51:35.825786",
     "status": "completed"
    },
    "tags": []
   },
   "outputs": [],
   "source": []
  },
  {
   "cell_type": "markdown",
   "id": "tight-making",
   "metadata": {
    "id": "tight-making",
    "papermill": {
     "duration": 0.027361,
     "end_time": "2021-04-17T20:51:35.911439",
     "exception": false,
     "start_time": "2021-04-17T20:51:35.884078",
     "status": "completed"
    },
    "tags": []
   },
   "source": [
    "# Inference"
   ]
  },
  {
   "cell_type": "code",
   "execution_count": 14,
   "id": "developing-intranet",
   "metadata": {
    "colab": {
     "base_uri": "https://localhost:8080/"
    },
    "execution": {
     "iopub.execute_input": "2021-04-17T20:51:35.968617Z",
     "iopub.status.busy": "2021-04-17T20:51:35.968046Z",
     "iopub.status.idle": "2021-04-17T20:51:38.986683Z",
     "shell.execute_reply": "2021-04-17T20:51:38.987779Z"
    },
    "executionInfo": {
     "elapsed": 4449,
     "status": "ok",
     "timestamp": 1622563481741,
     "user": {
      "displayName": "中村有紗",
      "photoUrl": "",
      "userId": "01679400299700621239"
     },
     "user_tz": -540
    },
    "id": "developing-intranet",
    "outputId": "63c4c524-7f9b-4c7b-9bd6-83bb54fd2ec8",
    "papermill": {
     "duration": 3.049948,
     "end_time": "2021-04-17T20:51:38.988023",
     "exception": false,
     "start_time": "2021-04-17T20:51:35.938075",
     "status": "completed"
    },
    "tags": []
   },
   "outputs": [
    {
     "data": {
      "text/plain": [
       "(20, (120, 3, 128, 201))"
      ]
     },
     "execution_count": 14,
     "metadata": {
      "tags": []
     },
     "output_type": "execute_result"
    }
   ],
   "source": [
    "test_data = BirdCLEFDataset(data=data)\n",
    "len(test_data), test_data[0].shape"
   ]
  },
  {
   "cell_type": "code",
   "execution_count": 15,
   "id": "tutorial-hardwood",
   "metadata": {
    "executionInfo": {
     "elapsed": 19,
     "status": "ok",
     "timestamp": 1622563481742,
     "user": {
      "displayName": "中村有紗",
      "photoUrl": "",
      "userId": "01679400299700621239"
     },
     "user_tz": -540
    },
    "id": "tutorial-hardwood",
    "papermill": {
     "duration": 0.04631,
     "end_time": "2021-04-17T20:51:39.083268",
     "exception": false,
     "start_time": "2021-04-17T20:51:39.036958",
     "status": "completed"
    },
    "tags": []
   },
   "outputs": [],
   "source": [
    "# net = timm.create_model(\"resnest50d\", pretrained=False)\n",
    "# print(net)"
   ]
  },
  {
   "cell_type": "code",
   "execution_count": 16,
   "id": "ready-purse",
   "metadata": {
    "execution": {
     "iopub.execute_input": "2021-04-17T20:51:39.146296Z",
     "iopub.status.busy": "2021-04-17T20:51:39.145650Z",
     "iopub.status.idle": "2021-04-17T20:51:39.148631Z",
     "shell.execute_reply": "2021-04-17T20:51:39.148195Z"
    },
    "executionInfo": {
     "elapsed": 798,
     "status": "ok",
     "timestamp": 1622563482523,
     "user": {
      "displayName": "中村有紗",
      "photoUrl": "",
      "userId": "01679400299700621239"
     },
     "user_tz": -540
    },
    "id": "ready-purse",
    "papermill": {
     "duration": 0.03486,
     "end_time": "2021-04-17T20:51:39.148734",
     "exception": false,
     "start_time": "2021-04-17T20:51:39.113874",
     "status": "completed"
    },
    "tags": []
   },
   "outputs": [],
   "source": [
    "def load_net(checkpoint_path, model_name, num_classes=NUM_CLASSES):\n",
    "    \n",
    "    net = timm.create_model(model_name, pretrained=False)\n",
    "    if 'nfnet' in model_name:\n",
    "        net = replace_activations(net, torch.nn.SiLU, Mish())\n",
    "    \n",
    "    if \"efficientnet\" in model_name:\n",
    "        net.classifier = nn.Linear(net.classifier.in_features, num_classes)\n",
    "    elif \"dens\" in model_name:\n",
    "        net.classifier = nn.Linear(net.classifier.in_features, num_classes)\n",
    "    elif \"nfnet\" in model_name or \"rexnet\" in model_name:\n",
    "        net.head.fc = nn.Linear(net.head.fc.in_features, num_classes)\n",
    "    else:\n",
    "        net.fc = nn.Linear(net.fc.in_features, num_classes)\n",
    "    \n",
    "\n",
    "    dummy_device = torch.device(\"cpu\")\n",
    "    d = torch.load(checkpoint_path, map_location=dummy_device)\n",
    "    for key in list(d.keys()):\n",
    "        d[key.replace(\"model.\", \"\")] = d.pop(key)\n",
    "    net.load_state_dict(d)\n",
    "    net = net.to(DEVICE)\n",
    "    net = net.eval()\n",
    "    return net"
   ]
  },
  {
   "cell_type": "code",
   "execution_count": 17,
   "id": "parliamentary-warren",
   "metadata": {
    "execution": {
     "iopub.execute_input": "2021-04-17T20:51:39.204418Z",
     "iopub.status.busy": "2021-04-17T20:51:39.203881Z",
     "iopub.status.idle": "2021-04-17T20:51:46.856888Z",
     "shell.execute_reply": "2021-04-17T20:51:46.855903Z"
    },
    "executionInfo": {
     "elapsed": 204,
     "status": "ok",
     "timestamp": 1622563483805,
     "user": {
      "displayName": "中村有紗",
      "photoUrl": "",
      "userId": "01679400299700621239"
     },
     "user_tz": -540
    },
    "id": "parliamentary-warren",
    "papermill": {
     "duration": 7.682683,
     "end_time": "2021-04-17T20:51:46.857034",
     "exception": false,
     "start_time": "2021-04-17T20:51:39.174351",
     "status": "completed"
    },
    "tags": []
   },
   "outputs": [],
   "source": [
    "\n",
    "# checkpoint_paths = [\n",
    "#     # 1\n",
    "#     Path(\"./weights/0524_1800_resnext50_32x4d_sr32000_d7_v1_v1/birdclef_resnext50_32x4d_fold3_epoch_11_f1_val_06291_20210524084908.pth\"),\n",
    "#     # 2\n",
    "# #    Path(\"./weights/0523_1600_eca_nfnet_l0_sr32000_d7_v1_v1/birdclef_eca_nfnet_l0_fold0_epoch_14_f1_val_06533_20210523083616.pth\"),\n",
    "#     # 3\n",
    "#     Path(\"./weights/0523_1200_resnest50d_4s2x40d_sr32000_d7_v1_v1/birdclef_resnest50d_4s2x40d_fold0_epoch_14_f1_val_06718_20210523051253.pth\"),\n",
    "#     # 4\n",
    "#     Path(\"./weights/0524_1500_resnest50d_sr32000_d7_v1_v1/birdclef_resnest50d_fold2_epoch_11_f1_val_06542_20210524053705.pth\"),\n",
    "#     # 5\n",
    "#  #   Path(\"./weights/0523_1100_tf_eff_b5_ns/birdclef_tf_efficientnet_b5_ns_fold1_epoch_12_f1_val_06412_20210522112214.pth\"),\n",
    "#     # 6\n",
    "#     Path(\"./weights/0519_1430_tf_eff_b4/birdclef_tf_efficientnet_b4_fold0_epoch_11_f1_val_07519_20210519052502.pth\"),\n",
    "#     # 7\n",
    "#  #   Path(\"./weights/0520_1630_resnest50d/birdclef_resnest50d_fold0_epoch_11_f1_val_06515_20210520072735.pth\"),\n",
    "#     # 8\n",
    "#     Path(\"./weights/0524_0100_swsl_resnet50_sr32000_d7_v1_v1/birdclef_swsl_resnet50_fold0_epoch_14_f1_val_05959_20210523164922.pth\"),\n",
    "#     # 9\n",
    "#     Path(\"./weights/0524_2100_tf_efficientnet_b0_ns_sr32000_d7_v1_v1/birdclef_tf_efficientnet_b0_ns_fold4_epoch_11_f1_val_05319_20210524122743.pth\"),\n",
    "#     # 10\n",
    "#     Path(\"./weights/0524_2200_densenet121_sr32000_d7_v1_v1/birdclef_densenet121_fold3_epoch_11_f1_val_05970_20210524130955.pth\"),\n",
    "#     # 11\n",
    "#     Path(\"./weights/0524_2330_densenet201_sr32000_d7_v1_v1/birdclef_densenet201_fold2_epoch_14_f1_val_06470_20210524143220.pth\"),\n",
    "#     # 12\n",
    "#     Path(\"./weights/0529_1930_resnest50d_sr32000_d7_v1_v1/birdclef_resnest50d_fold0_epoch_13_f1_val_07030_20210529100744.pth\"),\n",
    "#     # 13\n",
    "#     Path(\"./weights/0529_2330_tf_efficientnet_b4_sr32000_d7_v1_v1/birdclef_tf_efficientnet_b4_fold1_epoch_11_f1_val_06727_20210529134822.pth\"),\n",
    "    \n",
    "# ]\n",
    "# model_names = [\n",
    "#                # 1\n",
    "#                \"resnext50_32x4d\",\n",
    "#                # 2\n",
    "#     #          \"eca_nfnet_l0\",\n",
    "#                # 3\n",
    "#                \"resnest50d_4s2x40d\",\n",
    "#                # 4\n",
    "#                \"resnest50d\",\n",
    "#                # 5\n",
    "#       #         \"tf_efficientnet_b5_ns\",\n",
    "#                # 6\n",
    "#                \"tf_efficientnet_b4\",\n",
    "#                # 7\n",
    "#       #        \"resnest50d\",\n",
    "#                # 8\n",
    "#               \"swsl_resnet50\",\n",
    "#                # 9\n",
    "#               \"tf_efficientnet_b0_ns\",\n",
    "#                # 10\n",
    "#               \"densenet121\",\n",
    "#                # 11\n",
    "#               \"densenet201\",\n",
    "#                # 12\n",
    "#               \"resnest50d\",\n",
    "#                # 13\n",
    "#                \"tf_efficientnet_b4\",\n",
    "# ]\n",
    "\n",
    "# THRESHS = [\n",
    "#            # 1\n",
    "#            0.45,\n",
    "#            # 2\n",
    "#     #       0.51,\n",
    "#            # 3\n",
    "#            0.53,\n",
    "#            # 4\n",
    "#            0.47,\n",
    "#            # 5\n",
    "#    #        0.37,\n",
    "#            # 6\n",
    "#            0.29,\n",
    "#            # 7\n",
    "#     #       0.25,\n",
    "#            # 8\n",
    "#            0.52,\n",
    "#            # 9\n",
    "#            0.8,\n",
    "#            # 10\n",
    "#            0.32,\n",
    "#            # 11\n",
    "#            0.5,\n",
    "#            # 12\n",
    "#            0.6,\n",
    "#            # 13\n",
    "#            0.5,\n",
    "# ]\n",
    "\n",
    "# count = 0\n",
    "# nets = []\n",
    "# for checkpoint_path in checkpoint_paths:\n",
    "#     nets.append(load_net(checkpoint_path.as_posix(), model_name=model_names[count]))\n",
    "#     count += 1"
   ]
  },
  {
   "cell_type": "code",
   "execution_count": 18,
   "id": "tlOLK7seaUue",
   "metadata": {
    "executionInfo": {
     "elapsed": 22407,
     "status": "ok",
     "timestamp": 1622563507714,
     "user": {
      "displayName": "中村有紗",
      "photoUrl": "",
      "userId": "01679400299700621239"
     },
     "user_tz": -540
    },
    "id": "tlOLK7seaUue"
   },
   "outputs": [],
   "source": [
    "checkpoint_paths = [\n",
    "    #1\n",
    "    Path(\"./weights/0520_1630_resnest50d/birdclef_resnest50d_fold0_epoch_11_f1_val_06515_20210520072735.pth\"),\n",
    "    Path(\"./weights/0524_2200_densenet121_sr32000_d7_v1_v1/birdclef_densenet121_fold3_epoch_11_f1_val_05970_20210524130955.pth\"),\n",
    "    Path(\"./weights/0524_2330_densenet201_sr32000_d7_v1_v1/birdclef_densenet201_fold2_epoch_14_f1_val_06470_20210524143220.pth\"),\n",
    "    Path(\"./weights/0602_0000_rexnet_200_sr32000_d7_v1_v1/birdclef_rexnet_200_fold4_epoch_11_f1_val_06798_20210601150743.pth\"),\n",
    "    \n",
    "]\n",
    "\n",
    "model_names = [\n",
    "               \"resnest50d\",\n",
    "               \"densenet121\",\n",
    "               \"densenet201\",\n",
    "               \"rexnet_200\",\n",
    "]\n",
    "\n",
    "THRESHS = [\n",
    "           # 1\n",
    "           0.25,\n",
    "           # 2\n",
    "           0.32,\n",
    "           # 3\n",
    "           0.5,\n",
    "           # 4\n",
    "           0.9,\n",
    "           \n",
    "]\n",
    "\n",
    "count = 0\n",
    "nets = []\n",
    "for checkpoint_path in checkpoint_paths:\n",
    "    nets.append(load_net(checkpoint_path.as_posix(), model_name=model_names[count]))\n",
    "    count += 1"
   ]
  },
  {
   "cell_type": "code",
   "execution_count": 19,
   "id": "excess-window",
   "metadata": {
    "executionInfo": {
     "elapsed": 345,
     "status": "ok",
     "timestamp": 1622563512074,
     "user": {
      "displayName": "中村有紗",
      "photoUrl": "",
      "userId": "01679400299700621239"
     },
     "user_tz": -540
    },
    "id": "excess-window",
    "papermill": {
     "duration": 0.0269,
     "end_time": "2021-04-17T20:51:46.911246",
     "exception": false,
     "start_time": "2021-04-17T20:51:46.884346",
     "status": "completed"
    },
    "tags": []
   },
   "outputs": [],
   "source": [
    "# @torch.no_grad()\n",
    "# def get_thresh_preds(out, thresh=None):\n",
    "#     thresh = thresh or THRESH\n",
    "#     o = (-out).argsort(1)\n",
    "\n",
    "#     test = out > thresh\n",
    "#     print(\"test\", test)\n",
    "#     print(\"o test\", o[test])\n",
    "#     npreds = (out > thresh).sum(1)\n",
    "#     preds = []\n",
    "#     for oo, npred in zip(o, npreds):\n",
    "#         preds.append(oo[:npred].cpu().numpy().tolist())\n",
    "        \n",
    "#     return preds"
   ]
  },
  {
   "cell_type": "code",
   "execution_count": 20,
   "id": "advisory-assembly",
   "metadata": {
    "execution": {
     "iopub.execute_input": "2021-04-17T20:51:46.973068Z",
     "iopub.status.busy": "2021-04-17T20:51:46.971085Z",
     "iopub.status.idle": "2021-04-17T20:51:46.973751Z",
     "shell.execute_reply": "2021-04-17T20:51:46.974142Z"
    },
    "executionInfo": {
     "elapsed": 327,
     "status": "ok",
     "timestamp": 1622563512398,
     "user": {
      "displayName": "中村有紗",
      "photoUrl": "",
      "userId": "01679400299700621239"
     },
     "user_tz": -540
    },
    "id": "advisory-assembly",
    "papermill": {
     "duration": 0.036164,
     "end_time": "2021-04-17T20:51:46.974261",
     "exception": false,
     "start_time": "2021-04-17T20:51:46.938097",
     "status": "completed"
    },
    "tags": []
   },
   "outputs": [],
   "source": [
    "@torch.no_grad()\n",
    "def get_thresh_preds(out, thresh=None):\n",
    "    thresh = thresh or THRESH\n",
    "    o = (-out).argsort(1)\n",
    "\n",
    "    test = out > thresh\n",
    "\n",
    "    npreds = (out > thresh).sum(1)\n",
    "\n",
    "    preds = []\n",
    "    for oo, npred in zip(o, npreds):\n",
    "        preds.append(oo[:npred].cpu().numpy().tolist())\n",
    "        \n",
    "        \n",
    "    return preds"
   ]
  },
  {
   "cell_type": "code",
   "execution_count": 21,
   "id": "empty-finnish",
   "metadata": {
    "execution": {
     "iopub.execute_input": "2021-04-17T20:51:47.037194Z",
     "iopub.status.busy": "2021-04-17T20:51:47.035392Z",
     "iopub.status.idle": "2021-04-17T20:51:47.037826Z",
     "shell.execute_reply": "2021-04-17T20:51:47.038216Z"
    },
    "executionInfo": {
     "elapsed": 199,
     "status": "ok",
     "timestamp": 1622563516177,
     "user": {
      "displayName": "中村有紗",
      "photoUrl": "",
      "userId": "01679400299700621239"
     },
     "user_tz": -540
    },
    "id": "empty-finnish",
    "papermill": {
     "duration": 0.035527,
     "end_time": "2021-04-17T20:51:47.038332",
     "exception": false,
     "start_time": "2021-04-17T20:51:47.002805",
     "status": "completed"
    },
    "tags": []
   },
   "outputs": [],
   "source": [
    "def get_bird_names(preds):\n",
    "    bird_names = []\n",
    "    for pred in preds:\n",
    "        if not pred:\n",
    "            bird_names.append(\"nocall\")\n",
    "        else:\n",
    "            bird_names.append(\" \".join([INV_LABEL_IDS[bird_id] for bird_id in pred]))\n",
    "    #print(\"bird_names\", bird_names)\n",
    "    return bird_names"
   ]
  },
  {
   "cell_type": "code",
   "execution_count": 21,
   "id": "miniature-while",
   "metadata": {
    "executionInfo": {
     "elapsed": 4,
     "status": "ok",
     "timestamp": 1622563517532,
     "user": {
      "displayName": "中村有紗",
      "photoUrl": "",
      "userId": "01679400299700621239"
     },
     "user_tz": -540
    },
    "id": "miniature-while",
    "papermill": {
     "duration": 0.02703,
     "end_time": "2021-04-17T20:51:47.092654",
     "exception": false,
     "start_time": "2021-04-17T20:51:47.065624",
     "status": "completed"
    },
    "tags": []
   },
   "outputs": [],
   "source": []
  },
  {
   "cell_type": "code",
   "execution_count": 22,
   "id": "biblical-killer",
   "metadata": {
    "execution": {
     "iopub.execute_input": "2021-04-17T20:51:47.155146Z",
     "iopub.status.busy": "2021-04-17T20:51:47.153273Z",
     "iopub.status.idle": "2021-04-17T20:51:47.155744Z",
     "shell.execute_reply": "2021-04-17T20:51:47.156203Z"
    },
    "executionInfo": {
     "elapsed": 3,
     "status": "ok",
     "timestamp": 1622563518326,
     "user": {
      "displayName": "中村有紗",
      "photoUrl": "",
      "userId": "01679400299700621239"
     },
     "user_tz": -540
    },
    "id": "biblical-killer",
    "papermill": {
     "duration": 0.036418,
     "end_time": "2021-04-17T20:51:47.156316",
     "exception": false,
     "start_time": "2021-04-17T20:51:47.119898",
     "status": "completed"
    },
    "tags": []
   },
   "outputs": [],
   "source": [
    "def predict(nets, test_data, names=True):\n",
    "    \n",
    "    with torch.no_grad():\n",
    "      all_preds = []\n",
    "      for net in nets:\n",
    "        preds = []\n",
    "        for idx in  tqdm(list(range(len(test_data)))):\n",
    "          xb = torch.from_numpy(test_data[idx]).to(DEVICE)\n",
    "          \n",
    "          pred = net(xb)\n",
    "          pred = torch.sigmoid(pred)\n",
    "          #print(\"pred.shape\", pred.shape)\n",
    "          if names:\n",
    "              pred = get_bird_names(get_thresh_preds(pred))\n",
    "\n",
    "          preds.append(pred)\n",
    "        all_preds.append(preds)\n",
    "    return all_preds"
   ]
  },
  {
   "cell_type": "code",
   "execution_count": 23,
   "id": "developmental-terrace",
   "metadata": {
    "colab": {
     "base_uri": "https://localhost:8080/",
     "height": 230,
     "referenced_widgets": [
      "6182ed162713417291082a6eb4f071bf",
      "6d4901af85ad4a72998386197985be0d",
      "f30adcba920547cf8e3e5facee0e1769",
      "d824e6390db34597a643f5a80aeb0f02",
      "c568950c32894d3ba610b3fdc8a28d22",
      "0244a628c09d487fa3f264160ad202ee",
      "5aadca662e824cfda4e7310967f4f1b5",
      "4d3666e97ff7479fbe1b084b8d3d0555",
      "bbb6aa090df0419786a3f124e78de79f",
      "c29aa2a73c2f4f96957305df2bedf4dc",
      "bd2ad0be44954caf9af875079dd01536",
      "e5e6d053db7d4a36b5dcf3da0f36f04c",
      "c9b20732f42449c9bd58270530412419",
      "ed945d97cefc41fab7bdde8dce342fe6",
      "67ee0b093a8b468886c3660611ffacb1",
      "e11c60d48ea848e9970d6d8c526a8d83",
      "5b48d45548cd4513ba7aba0c64632dc8",
      "aa318bdc1b9b4139b18eb50345ceabbe",
      "48bbbb1522184647b23da15c7e57d27b",
      "d31f99c1548940d98ae5ad9a09a2a2c0",
      "aca8c4fcd9fc4904ac807350c28d180c",
      "0cbbda2e8436474aad3a0916f2be3a3e",
      "ffba052b6f0242cebe339f9bdc462d22",
      "b87f769c89254a169c9787631214220c",
      "afd29ef1a59e44e0903318c1aec16095",
      "f091777572fe4c49b294e241228b340b",
      "2eb75d20a644416497d9c68affd5a9b6",
      "866ec5361cb54d03b940d8e0de38b281",
      "90fd298f96b148628f889819f95073c0",
      "6016e05c485f404db23df98222b5e261",
      "06bb7c42a5574e308c48e56ed8191528",
      "20daa1fc34884a7c9f70c213d9d69614"
     ]
    },
    "execution": {
     "iopub.execute_input": "2021-04-17T20:51:47.215300Z",
     "iopub.status.busy": "2021-04-17T20:51:47.214400Z",
     "iopub.status.idle": "2021-04-17T20:52:52.421686Z",
     "shell.execute_reply": "2021-04-17T20:52:52.417646Z"
    },
    "executionInfo": {
     "elapsed": 328853,
     "status": "ok",
     "timestamp": 1622563847426,
     "user": {
      "displayName": "中村有紗",
      "photoUrl": "",
      "userId": "01679400299700621239"
     },
     "user_tz": -540
    },
    "id": "developmental-terrace",
    "outputId": "44cb79d9-436e-41be-eca4-2d4c2ab6bd72",
    "papermill": {
     "duration": 65.237965,
     "end_time": "2021-04-17T20:52:52.421866",
     "exception": false,
     "start_time": "2021-04-17T20:51:47.183901",
     "status": "completed"
    },
    "tags": []
   },
   "outputs": [
    {
     "data": {
      "application/vnd.jupyter.widget-view+json": {
       "model_id": "6182ed162713417291082a6eb4f071bf",
       "version_major": 2,
       "version_minor": 0
      },
      "text/plain": [
       "HBox(children=(FloatProgress(value=0.0, max=20.0), HTML(value='')))"
      ]
     },
     "metadata": {
      "tags": []
     },
     "output_type": "display_data"
    },
    {
     "name": "stdout",
     "output_type": "stream",
     "text": [
      "\n"
     ]
    },
    {
     "data": {
      "application/vnd.jupyter.widget-view+json": {
       "model_id": "bbb6aa090df0419786a3f124e78de79f",
       "version_major": 2,
       "version_minor": 0
      },
      "text/plain": [
       "HBox(children=(FloatProgress(value=0.0, max=20.0), HTML(value='')))"
      ]
     },
     "metadata": {
      "tags": []
     },
     "output_type": "display_data"
    },
    {
     "name": "stdout",
     "output_type": "stream",
     "text": [
      "\n"
     ]
    },
    {
     "data": {
      "application/vnd.jupyter.widget-view+json": {
       "model_id": "5b48d45548cd4513ba7aba0c64632dc8",
       "version_major": 2,
       "version_minor": 0
      },
      "text/plain": [
       "HBox(children=(FloatProgress(value=0.0, max=20.0), HTML(value='')))"
      ]
     },
     "metadata": {
      "tags": []
     },
     "output_type": "display_data"
    },
    {
     "name": "stdout",
     "output_type": "stream",
     "text": [
      "\n"
     ]
    },
    {
     "data": {
      "application/vnd.jupyter.widget-view+json": {
       "model_id": "afd29ef1a59e44e0903318c1aec16095",
       "version_major": 2,
       "version_minor": 0
      },
      "text/plain": [
       "HBox(children=(FloatProgress(value=0.0, max=20.0), HTML(value='')))"
      ]
     },
     "metadata": {
      "tags": []
     },
     "output_type": "display_data"
    },
    {
     "name": "stdout",
     "output_type": "stream",
     "text": [
      "\n",
      "4\n"
     ]
    }
   ],
   "source": [
    "pred_probas = predict(nets, test_data, names=False)\n",
    "print(len(pred_probas))"
   ]
  },
  {
   "cell_type": "code",
   "execution_count": 24,
   "id": "WBXmVixbLaWu",
   "metadata": {
    "colab": {
     "base_uri": "https://localhost:8080/"
    },
    "executionInfo": {
     "elapsed": 267,
     "status": "ok",
     "timestamp": 1622563851625,
     "user": {
      "displayName": "中村有紗",
      "photoUrl": "",
      "userId": "01679400299700621239"
     },
     "user_tz": -540
    },
    "id": "WBXmVixbLaWu",
    "outputId": "4e899eb0-14c7-4809-8a10-3e127d655939"
   },
   "outputs": [
    {
     "data": {
      "text/plain": [
       "20"
      ]
     },
     "execution_count": 24,
     "metadata": {
      "tags": []
     },
     "output_type": "execute_result"
    }
   ],
   "source": [
    "len(pred_probas[0])"
   ]
  },
  {
   "cell_type": "code",
   "execution_count": 25,
   "id": "EDu1EfieoUbo",
   "metadata": {
    "executionInfo": {
     "elapsed": 317,
     "status": "ok",
     "timestamp": 1622563853172,
     "user": {
      "displayName": "中村有紗",
      "photoUrl": "",
      "userId": "01679400299700621239"
     },
     "user_tz": -540
    },
    "id": "EDu1EfieoUbo"
   },
   "outputs": [],
   "source": [
    "# def get_bird_names_org(pred_probas):\n",
    "#   all_bird_names = []\n",
    "#   for pred_proba in pred_probas:  # ogg 20\n",
    "#     #print(\"ogg\")\n",
    "#     ogg_bird_names = []\n",
    "#     for pb in pred_proba: # 区切りごと 120\n",
    "#       #print(\"区切り\")\n",
    "#       bird_names = []\n",
    "#       yp = np.where(pb.cpu().numpy() > THRESH)  # 閾値を超えたNo (array([72]),)\n",
    "#       for y in yp:  # [72]\n",
    "#         if len(y) == 0:\n",
    "#           #print(\"nocall\")\n",
    "#           bird_names.append(\"nocall\")\n",
    "#         else:\n",
    "#           for m in y:  # 閾値を超えた数だけループ\n",
    "#             bird_names.append(INV_LABEL_IDS[m])\n",
    "#         ogg_bird_names.append(bird_names)\n",
    "#         #print(bird_names)\n",
    "#     all_bird_names.append(ogg_bird_names)\n",
    "#   return all_bird_names\n",
    "    \n",
    "    "
   ]
  },
  {
   "cell_type": "code",
   "execution_count": 47,
   "id": "A6K4B4W1LgHg",
   "metadata": {
    "executionInfo": {
     "elapsed": 229,
     "status": "ok",
     "timestamp": 1622563911481,
     "user": {
      "displayName": "中村有紗",
      "photoUrl": "",
      "userId": "01679400299700621239"
     },
     "user_tz": -540
    },
    "id": "A6K4B4W1LgHg"
   },
   "outputs": [],
   "source": [
    "VOT_NUM = 1\n",
    "import collections\n",
    "def get_bird_names_vot(pred_probas, THRESHS):\n",
    "  all_bird_names = []\n",
    "  for i in range(len(pred_probas[0])):  # ogg 20\n",
    "    ogg_bird_names = []\n",
    "    for j in range(len(pred_probas[0][0])):  # 区切り 120\n",
    "      bird_names = []\n",
    "      for k in range(len(pred_probas)):  # models\n",
    "        pb = pred_probas[k][i][j]\n",
    "        \n",
    "        yp = np.where(pb.cpu().numpy() > THRESHS[k])  # 閾値を超えたNo (array([72]),)\n",
    "        for y in yp:  # [72]\n",
    "          if len(y) == 0:\n",
    "            #print(\"nocall\")\n",
    "            bird_names.append(\"nocall\")\n",
    "          else:\n",
    "            for m in y:  # 閾値を超えた数だけループ\n",
    "              bird_names.append(INV_LABEL_IDS[m])\n",
    "          \n",
    "      #print(bird_names)\n",
    "      c = collections.Counter(bird_names)\n",
    "      values, counts = zip(*c.most_common())\n",
    "      vot_birds = []\n",
    "      for n in range(len(values)):\n",
    "        if n == 0 and values[n] == \"nocall\":\n",
    "          vot_birds.append(values[n])\n",
    "          break  # nocallが1位なのでnocall\n",
    "\n",
    "        if counts[n] >= VOT_NUM and values[n] != \"nocall\":\n",
    "          vot_birds.append(values[n])\n",
    "      if len(vot_birds) == 0:\n",
    "        vot_birds.append(\"nocall\")\n",
    "      #print(vot_birds)\n",
    "      ogg_bird_names.append(vot_birds)\n",
    "      \n",
    "    all_bird_names.append(ogg_bird_names)\n",
    "  return all_bird_names\n"
   ]
  },
  {
   "cell_type": "code",
   "execution_count": 48,
   "id": "VugwYBo5xcxE",
   "metadata": {
    "executionInfo": {
     "elapsed": 324,
     "status": "ok",
     "timestamp": 1622563913242,
     "user": {
      "displayName": "中村有紗",
      "photoUrl": "",
      "userId": "01679400299700621239"
     },
     "user_tz": -540
    },
    "id": "VugwYBo5xcxE"
   },
   "outputs": [],
   "source": [
    "preds = get_bird_names_vot(pred_probas, THRESHS)"
   ]
  },
  {
   "cell_type": "code",
   "execution_count": 49,
   "id": "structured-midwest",
   "metadata": {
    "execution": {
     "iopub.execute_input": "2021-04-17T20:52:52.490840Z",
     "iopub.status.busy": "2021-04-17T20:52:52.490345Z",
     "iopub.status.idle": "2021-04-17T20:52:52.587995Z",
     "shell.execute_reply": "2021-04-17T20:52:52.587568Z"
    },
    "executionInfo": {
     "elapsed": 3,
     "status": "ok",
     "timestamp": 1622563913242,
     "user": {
      "displayName": "中村有紗",
      "photoUrl": "",
      "userId": "01679400299700621239"
     },
     "user_tz": -540
    },
    "id": "structured-midwest",
    "papermill": {
     "duration": 0.128509,
     "end_time": "2021-04-17T20:52:52.588113",
     "exception": false,
     "start_time": "2021-04-17T20:52:52.459604",
     "status": "completed"
    },
    "tags": []
   },
   "outputs": [],
   "source": [
    "\n",
    "#preds = [get_bird_names(get_thresh_preds(pred, thresh=THRESH)) for pred in pred_probas]\n",
    "# preds[:2]"
   ]
  },
  {
   "cell_type": "code",
   "execution_count": 50,
   "id": "disabled-swift",
   "metadata": {
    "execution": {
     "iopub.execute_input": "2021-04-17T20:52:52.706299Z",
     "iopub.status.busy": "2021-04-17T20:52:52.705750Z",
     "iopub.status.idle": "2021-04-17T20:52:52.709682Z",
     "shell.execute_reply": "2021-04-17T20:52:52.709279Z"
    },
    "executionInfo": {
     "elapsed": 4,
     "status": "ok",
     "timestamp": 1622563913510,
     "user": {
      "displayName": "中村有紗",
      "photoUrl": "",
      "userId": "01679400299700621239"
     },
     "user_tz": -540
    },
    "id": "disabled-swift",
    "papermill": {
     "duration": 0.038171,
     "end_time": "2021-04-17T20:52:52.709790",
     "exception": false,
     "start_time": "2021-04-17T20:52:52.671619",
     "status": "completed"
    },
    "tags": []
   },
   "outputs": [],
   "source": [
    "# def preds_as_df(data, preds):\n",
    "#     sub = {\n",
    "#         \"row_id\": [],\n",
    "#         \"birds\": [],\n",
    "#     }\n",
    "    \n",
    "#     for row, pred in zip(data.itertuples(False), preds):\n",
    "#         row_id = [f\"{row.id}_{row.site}_{5*i}\" for i in range(1, len(pred)+1)]\n",
    "#         sub[\"birds\"] += pred\n",
    "#         sub[\"row_id\"] += row_id\n",
    "        \n",
    "#     sub = pd.DataFrame(sub)\n",
    "    \n",
    "#     if SAMPLE_SUB_PATH:\n",
    "#         sample_sub = pd.read_csv(SAMPLE_SUB_PATH, usecols=[\"row_id\"])\n",
    "#         sub = sample_sub.merge(sub, on=\"row_id\", how=\"left\")\n",
    "#         sub[\"birds\"] = sub[\"birds\"].fillna(\"nocall\")\n",
    "#     return sub"
   ]
  },
  {
   "cell_type": "code",
   "execution_count": 51,
   "id": "wlG3Hsv93dEN",
   "metadata": {
    "colab": {
     "base_uri": "https://localhost:8080/"
    },
    "executionInfo": {
     "elapsed": 3,
     "status": "ok",
     "timestamp": 1622563914728,
     "user": {
      "displayName": "中村有紗",
      "photoUrl": "",
      "userId": "01679400299700621239"
     },
     "user_tz": -540
    },
    "id": "wlG3Hsv93dEN",
    "outputId": "e1e7c1a9-7806-4a77-dc03-f753ff702fd4"
   },
   "outputs": [
    {
     "name": "stdout",
     "output_type": "stream",
     "text": [
      "20\n",
      "120\n",
      "1\n"
     ]
    }
   ],
   "source": [
    "print(len(preds))\n",
    "print(len(preds[0]))\n",
    "print(len(preds[0][0]))\n"
   ]
  },
  {
   "cell_type": "code",
   "execution_count": 52,
   "id": "2UJSS20J1Cq5",
   "metadata": {
    "executionInfo": {
     "elapsed": 3,
     "status": "ok",
     "timestamp": 1622563914729,
     "user": {
      "displayName": "中村有紗",
      "photoUrl": "",
      "userId": "01679400299700621239"
     },
     "user_tz": -540
    },
    "id": "2UJSS20J1Cq5"
   },
   "outputs": [],
   "source": [
    "def preds_as_df(data, preds):\n",
    "    sub = {\n",
    "        \"row_id\": [],\n",
    "        \"birds\": [],\n",
    "    }\n",
    "    count = 0\n",
    "    \n",
    "    for row in data.itertuples(False):  # ogg\n",
    "        row_id = [f\"{row.id}_{row.site}_{5*i}\" for i in range(1, len(preds[count])+1)]\n",
    "        sub[\"row_id\"] += row_id\n",
    "    \n",
    "    for i in range(len(preds)):  # ogg\n",
    "        yp = []\n",
    "        for j in range(len(preds[i])): # 区切り\n",
    "              y = \"\"\n",
    "              #print(preds[i][j])\n",
    "              for m in preds[i][j]:  # 鳴き声\n",
    "                y += m\n",
    "                y += \" \"\n",
    "              \n",
    "              yp.append(y)\n",
    "    \n",
    "        sub[\"birds\"] += yp\n",
    "    \n",
    "    sub = pd.DataFrame(sub)\n",
    "    \n",
    "    if SAMPLE_SUB_PATH:\n",
    "        sample_sub = pd.read_csv(SAMPLE_SUB_PATH, usecols=[\"row_id\"])\n",
    "        sub = sample_sub.merge(sub, on=\"row_id\", how=\"left\")\n",
    "        sub[\"birds\"] = sub[\"birds\"].fillna(\"nocall\")\n",
    "    return sub"
   ]
  },
  {
   "cell_type": "code",
   "execution_count": 53,
   "id": "still-matthew",
   "metadata": {
    "colab": {
     "base_uri": "https://localhost:8080/",
     "height": 436
    },
    "execution": {
     "iopub.execute_input": "2021-04-17T20:52:52.778103Z",
     "iopub.status.busy": "2021-04-17T20:52:52.777536Z",
     "iopub.status.idle": "2021-04-17T20:52:52.783052Z",
     "shell.execute_reply": "2021-04-17T20:52:52.782638Z"
    },
    "executionInfo": {
     "elapsed": 12,
     "status": "ok",
     "timestamp": 1622563916045,
     "user": {
      "displayName": "中村有紗",
      "photoUrl": "",
      "userId": "01679400299700621239"
     },
     "user_tz": -540
    },
    "id": "still-matthew",
    "outputId": "a2f1832d-5552-44c4-b315-a39271d6aab7",
    "papermill": {
     "duration": 0.04549,
     "end_time": "2021-04-17T20:52:52.783162",
     "exception": false,
     "start_time": "2021-04-17T20:52:52.737672",
     "status": "completed"
    },
    "tags": []
   },
   "outputs": [
    {
     "name": "stdout",
     "output_type": "stream",
     "text": [
      "(2400, 2)\n"
     ]
    },
    {
     "data": {
      "text/html": [
       "<div>\n",
       "<style scoped>\n",
       "    .dataframe tbody tr th:only-of-type {\n",
       "        vertical-align: middle;\n",
       "    }\n",
       "\n",
       "    .dataframe tbody tr th {\n",
       "        vertical-align: top;\n",
       "    }\n",
       "\n",
       "    .dataframe thead th {\n",
       "        text-align: right;\n",
       "    }\n",
       "</style>\n",
       "<table border=\"1\" class=\"dataframe\">\n",
       "  <thead>\n",
       "    <tr style=\"text-align: right;\">\n",
       "      <th></th>\n",
       "      <th>row_id</th>\n",
       "      <th>birds</th>\n",
       "    </tr>\n",
       "  </thead>\n",
       "  <tbody>\n",
       "    <tr>\n",
       "      <th>0</th>\n",
       "      <td>10534_SSW_5</td>\n",
       "      <td>nocall</td>\n",
       "    </tr>\n",
       "    <tr>\n",
       "      <th>1</th>\n",
       "      <td>10534_SSW_10</td>\n",
       "      <td>nocall</td>\n",
       "    </tr>\n",
       "    <tr>\n",
       "      <th>2</th>\n",
       "      <td>10534_SSW_15</td>\n",
       "      <td>nocall</td>\n",
       "    </tr>\n",
       "    <tr>\n",
       "      <th>3</th>\n",
       "      <td>10534_SSW_20</td>\n",
       "      <td>nocall</td>\n",
       "    </tr>\n",
       "    <tr>\n",
       "      <th>4</th>\n",
       "      <td>10534_SSW_25</td>\n",
       "      <td>nocall</td>\n",
       "    </tr>\n",
       "    <tr>\n",
       "      <th>...</th>\n",
       "      <td>...</td>\n",
       "      <td>...</td>\n",
       "    </tr>\n",
       "    <tr>\n",
       "      <th>2395</th>\n",
       "      <td>7954_COR_580</td>\n",
       "      <td>nocall</td>\n",
       "    </tr>\n",
       "    <tr>\n",
       "      <th>2396</th>\n",
       "      <td>7954_COR_585</td>\n",
       "      <td>nocall</td>\n",
       "    </tr>\n",
       "    <tr>\n",
       "      <th>2397</th>\n",
       "      <td>7954_COR_590</td>\n",
       "      <td>nocall</td>\n",
       "    </tr>\n",
       "    <tr>\n",
       "      <th>2398</th>\n",
       "      <td>7954_COR_595</td>\n",
       "      <td>nocall</td>\n",
       "    </tr>\n",
       "    <tr>\n",
       "      <th>2399</th>\n",
       "      <td>7954_COR_600</td>\n",
       "      <td>nocall</td>\n",
       "    </tr>\n",
       "  </tbody>\n",
       "</table>\n",
       "<p>2400 rows × 2 columns</p>\n",
       "</div>"
      ],
      "text/plain": [
       "            row_id    birds\n",
       "0      10534_SSW_5  nocall \n",
       "1     10534_SSW_10  nocall \n",
       "2     10534_SSW_15  nocall \n",
       "3     10534_SSW_20  nocall \n",
       "4     10534_SSW_25  nocall \n",
       "...            ...      ...\n",
       "2395  7954_COR_580  nocall \n",
       "2396  7954_COR_585  nocall \n",
       "2397  7954_COR_590  nocall \n",
       "2398  7954_COR_595  nocall \n",
       "2399  7954_COR_600  nocall \n",
       "\n",
       "[2400 rows x 2 columns]"
      ]
     },
     "execution_count": 53,
     "metadata": {
      "tags": []
     },
     "output_type": "execute_result"
    }
   ],
   "source": [
    "\n",
    "sub = preds_as_df(data, preds)\n",
    "print(sub.shape)\n",
    "sub"
   ]
  },
  {
   "cell_type": "code",
   "execution_count": 54,
   "id": "finished-jordan",
   "metadata": {
    "execution": {
     "iopub.execute_input": "2021-04-17T20:52:52.845540Z",
     "iopub.status.busy": "2021-04-17T20:52:52.844839Z",
     "iopub.status.idle": "2021-04-17T20:52:52.994878Z",
     "shell.execute_reply": "2021-04-17T20:52:52.994386Z"
    },
    "executionInfo": {
     "elapsed": 200,
     "status": "ok",
     "timestamp": 1622563917402,
     "user": {
      "displayName": "中村有紗",
      "photoUrl": "",
      "userId": "01679400299700621239"
     },
     "user_tz": -540
    },
    "id": "finished-jordan",
    "papermill": {
     "duration": 0.182854,
     "end_time": "2021-04-17T20:52:52.995004",
     "exception": false,
     "start_time": "2021-04-17T20:52:52.812150",
     "status": "completed"
    },
    "tags": []
   },
   "outputs": [],
   "source": [
    "#sub.to_csv(\"submission.csv\", index=False)"
   ]
  },
  {
   "cell_type": "code",
   "execution_count": 54,
   "id": "arabic-tonight",
   "metadata": {
    "executionInfo": {
     "elapsed": 273,
     "status": "ok",
     "timestamp": 1622563918618,
     "user": {
      "displayName": "中村有紗",
      "photoUrl": "",
      "userId": "01679400299700621239"
     },
     "user_tz": -540
    },
    "id": "arabic-tonight",
    "papermill": {
     "duration": 0.028276,
     "end_time": "2021-04-17T20:52:53.052264",
     "exception": false,
     "start_time": "2021-04-17T20:52:53.023988",
     "status": "completed"
    },
    "tags": []
   },
   "outputs": [],
   "source": []
  },
  {
   "cell_type": "markdown",
   "id": "together-increase",
   "metadata": {
    "id": "together-increase",
    "papermill": {
     "duration": 0.028443,
     "end_time": "2021-04-17T20:52:53.109210",
     "exception": false,
     "start_time": "2021-04-17T20:52:53.080767",
     "status": "completed"
    },
    "tags": []
   },
   "source": [
    "# Small validation"
   ]
  },
  {
   "cell_type": "code",
   "execution_count": 55,
   "id": "frequent-study",
   "metadata": {
    "execution": {
     "iopub.execute_input": "2021-04-17T20:52:53.174322Z",
     "iopub.status.busy": "2021-04-17T20:52:53.172627Z",
     "iopub.status.idle": "2021-04-17T20:52:53.174933Z",
     "shell.execute_reply": "2021-04-17T20:52:53.175321Z"
    },
    "executionInfo": {
     "elapsed": 5,
     "status": "ok",
     "timestamp": 1622563918816,
     "user": {
      "displayName": "中村有紗",
      "photoUrl": "",
      "userId": "01679400299700621239"
     },
     "user_tz": -540
    },
    "id": "frequent-study",
    "papermill": {
     "duration": 0.037657,
     "end_time": "2021-04-17T20:52:53.175438",
     "exception": false,
     "start_time": "2021-04-17T20:52:53.137781",
     "status": "completed"
    },
    "tags": []
   },
   "outputs": [],
   "source": [
    "def get_metrics(s_true, s_pred):\n",
    "    s_true = set(s_true.split())\n",
    "    s_pred = set(s_pred.split())\n",
    "    n, n_true, n_pred = len(s_true.intersection(s_pred)), len(s_true), len(s_pred)\n",
    "    \n",
    "    prec = n/n_pred\n",
    "    rec = n/n_true\n",
    "    f1 = 2*prec*rec/(prec + rec) if prec + rec else 0\n",
    "    \n",
    "    return {\"f1\": f1, \"prec\": prec, \"rec\": rec, \"n_true\": n_true, \"n_pred\": n_pred, \"n\": n}"
   ]
  },
  {
   "cell_type": "code",
   "execution_count": 56,
   "id": "registered-marble",
   "metadata": {
    "colab": {
     "base_uri": "https://localhost:8080/"
    },
    "execution": {
     "iopub.execute_input": "2021-04-17T20:52:53.240126Z",
     "iopub.status.busy": "2021-04-17T20:52:53.239638Z",
     "iopub.status.idle": "2021-04-17T20:52:53.277063Z",
     "shell.execute_reply": "2021-04-17T20:52:53.278020Z"
    },
    "executionInfo": {
     "elapsed": 5,
     "status": "ok",
     "timestamp": 1622563920243,
     "user": {
      "displayName": "中村有紗",
      "photoUrl": "",
      "userId": "01679400299700621239"
     },
     "user_tz": -540
    },
    "id": "registered-marble",
    "outputId": "f399d296-ae4a-482f-a3bb-fe583a92e6c9",
    "papermill": {
     "duration": 0.074237,
     "end_time": "2021-04-17T20:52:53.278232",
     "exception": false,
     "start_time": "2021-04-17T20:52:53.203995",
     "status": "completed"
    },
    "tags": []
   },
   "outputs": [
    {
     "name": "stdout",
     "output_type": "stream",
     "text": [
      "2400 2400\n",
      "f1        0.669194\n",
      "prec      0.671806\n",
      "rec       0.669181\n",
      "n_true    1.130000\n",
      "n_pred    1.009583\n",
      "n         0.675417\n",
      "dtype: float64\n"
     ]
    }
   ],
   "source": [
    "if TARGET_PATH:\n",
    "    sub_target = pd.read_csv(TARGET_PATH)\n",
    "    \n",
    "    sub_target = sub_target.merge(sub, how=\"left\", on=\"row_id\")\n",
    "    \n",
    "    \n",
    "    print(sub_target[\"birds_x\"].notnull().sum(), sub_target[\"birds_x\"].notnull().sum())\n",
    "    assert sub_target[\"birds_x\"].notnull().all()\n",
    "    assert sub_target[\"birds_y\"].notnull().all()\n",
    "    \n",
    "    df_metrics = pd.DataFrame([get_metrics(s_true, s_pred) for s_true, s_pred in zip(sub_target.birds_x, sub_target.birds_y)])\n",
    "    \n",
    "    print(df_metrics.mean())"
   ]
  },
  {
   "cell_type": "code",
   "execution_count": null,
   "id": "numeric-mistress",
   "metadata": {
    "colab": {
     "base_uri": "https://localhost:8080/",
     "height": 419
    },
    "execution": {
     "iopub.execute_input": "2021-04-17T20:52:53.354311Z",
     "iopub.status.busy": "2021-04-17T20:52:53.353481Z",
     "iopub.status.idle": "2021-04-17T20:52:53.358347Z",
     "shell.execute_reply": "2021-04-17T20:52:53.357954Z"
    },
    "executionInfo": {
     "elapsed": 9,
     "status": "ok",
     "timestamp": 1622551167160,
     "user": {
      "displayName": "中村有紗",
      "photoUrl": "",
      "userId": "01679400299700621239"
     },
     "user_tz": -540
    },
    "id": "numeric-mistress",
    "outputId": "8326abe1-133d-42d0-9019-87b762e57c80",
    "papermill": {
     "duration": 0.048712,
     "end_time": "2021-04-17T20:52:53.358450",
     "exception": false,
     "start_time": "2021-04-17T20:52:53.309738",
     "status": "completed"
    },
    "tags": []
   },
   "outputs": [
    {
     "data": {
      "text/html": [
       "<div>\n",
       "<style scoped>\n",
       "    .dataframe tbody tr th:only-of-type {\n",
       "        vertical-align: middle;\n",
       "    }\n",
       "\n",
       "    .dataframe tbody tr th {\n",
       "        vertical-align: top;\n",
       "    }\n",
       "\n",
       "    .dataframe thead th {\n",
       "        text-align: right;\n",
       "    }\n",
       "</style>\n",
       "<table border=\"1\" class=\"dataframe\">\n",
       "  <thead>\n",
       "    <tr style=\"text-align: right;\">\n",
       "      <th></th>\n",
       "      <th>row_id</th>\n",
       "      <th>site</th>\n",
       "      <th>audio_id</th>\n",
       "      <th>seconds</th>\n",
       "      <th>birds_x</th>\n",
       "      <th>birds_y</th>\n",
       "    </tr>\n",
       "  </thead>\n",
       "  <tbody>\n",
       "    <tr>\n",
       "      <th>0</th>\n",
       "      <td>7019_COR_5</td>\n",
       "      <td>COR</td>\n",
       "      <td>7019</td>\n",
       "      <td>5</td>\n",
       "      <td>nocall</td>\n",
       "      <td>nocall</td>\n",
       "    </tr>\n",
       "    <tr>\n",
       "      <th>1</th>\n",
       "      <td>7019_COR_10</td>\n",
       "      <td>COR</td>\n",
       "      <td>7019</td>\n",
       "      <td>10</td>\n",
       "      <td>nocall</td>\n",
       "      <td>nocall</td>\n",
       "    </tr>\n",
       "    <tr>\n",
       "      <th>2</th>\n",
       "      <td>7019_COR_15</td>\n",
       "      <td>COR</td>\n",
       "      <td>7019</td>\n",
       "      <td>15</td>\n",
       "      <td>nocall</td>\n",
       "      <td>nocall</td>\n",
       "    </tr>\n",
       "    <tr>\n",
       "      <th>3</th>\n",
       "      <td>7019_COR_20</td>\n",
       "      <td>COR</td>\n",
       "      <td>7019</td>\n",
       "      <td>20</td>\n",
       "      <td>nocall</td>\n",
       "      <td>nocall</td>\n",
       "    </tr>\n",
       "    <tr>\n",
       "      <th>4</th>\n",
       "      <td>7019_COR_25</td>\n",
       "      <td>COR</td>\n",
       "      <td>7019</td>\n",
       "      <td>25</td>\n",
       "      <td>nocall</td>\n",
       "      <td>nocall</td>\n",
       "    </tr>\n",
       "    <tr>\n",
       "      <th>...</th>\n",
       "      <td>...</td>\n",
       "      <td>...</td>\n",
       "      <td>...</td>\n",
       "      <td>...</td>\n",
       "      <td>...</td>\n",
       "      <td>...</td>\n",
       "    </tr>\n",
       "    <tr>\n",
       "      <th>2395</th>\n",
       "      <td>54955_SSW_580</td>\n",
       "      <td>SSW</td>\n",
       "      <td>54955</td>\n",
       "      <td>580</td>\n",
       "      <td>nocall</td>\n",
       "      <td>nocall</td>\n",
       "    </tr>\n",
       "    <tr>\n",
       "      <th>2396</th>\n",
       "      <td>54955_SSW_585</td>\n",
       "      <td>SSW</td>\n",
       "      <td>54955</td>\n",
       "      <td>585</td>\n",
       "      <td>grycat</td>\n",
       "      <td>nocall</td>\n",
       "    </tr>\n",
       "    <tr>\n",
       "      <th>2397</th>\n",
       "      <td>54955_SSW_590</td>\n",
       "      <td>SSW</td>\n",
       "      <td>54955</td>\n",
       "      <td>590</td>\n",
       "      <td>grycat</td>\n",
       "      <td>nocall</td>\n",
       "    </tr>\n",
       "    <tr>\n",
       "      <th>2398</th>\n",
       "      <td>54955_SSW_595</td>\n",
       "      <td>SSW</td>\n",
       "      <td>54955</td>\n",
       "      <td>595</td>\n",
       "      <td>nocall</td>\n",
       "      <td>nocall</td>\n",
       "    </tr>\n",
       "    <tr>\n",
       "      <th>2399</th>\n",
       "      <td>54955_SSW_600</td>\n",
       "      <td>SSW</td>\n",
       "      <td>54955</td>\n",
       "      <td>600</td>\n",
       "      <td>nocall</td>\n",
       "      <td>nocall</td>\n",
       "    </tr>\n",
       "  </tbody>\n",
       "</table>\n",
       "<p>2400 rows × 6 columns</p>\n",
       "</div>"
      ],
      "text/plain": [
       "             row_id site  audio_id  seconds birds_x  birds_y\n",
       "0        7019_COR_5  COR      7019        5  nocall  nocall \n",
       "1       7019_COR_10  COR      7019       10  nocall  nocall \n",
       "2       7019_COR_15  COR      7019       15  nocall  nocall \n",
       "3       7019_COR_20  COR      7019       20  nocall  nocall \n",
       "4       7019_COR_25  COR      7019       25  nocall  nocall \n",
       "...             ...  ...       ...      ...     ...      ...\n",
       "2395  54955_SSW_580  SSW     54955      580  nocall  nocall \n",
       "2396  54955_SSW_585  SSW     54955      585  grycat  nocall \n",
       "2397  54955_SSW_590  SSW     54955      590  grycat  nocall \n",
       "2398  54955_SSW_595  SSW     54955      595  nocall  nocall \n",
       "2399  54955_SSW_600  SSW     54955      600  nocall  nocall \n",
       "\n",
       "[2400 rows x 6 columns]"
      ]
     },
     "execution_count": 68,
     "metadata": {
      "tags": []
     },
     "output_type": "execute_result"
    }
   ],
   "source": [
    "sub_target[sub_target.birds_y != \"nocall\"]"
   ]
  },
  {
   "cell_type": "code",
   "execution_count": null,
   "id": "duplicate-driving",
   "metadata": {
    "colab": {
     "base_uri": "https://localhost:8080/",
     "height": 419
    },
    "execution": {
     "iopub.execute_input": "2021-04-17T20:52:53.432534Z",
     "iopub.status.busy": "2021-04-17T20:52:53.431984Z",
     "iopub.status.idle": "2021-04-17T20:52:53.437529Z",
     "shell.execute_reply": "2021-04-17T20:52:53.437117Z"
    },
    "executionInfo": {
     "elapsed": 18,
     "status": "ok",
     "timestamp": 1622299220923,
     "user": {
      "displayName": "中村有紗",
      "photoUrl": "",
      "userId": "01679400299700621239"
     },
     "user_tz": -540
    },
    "id": "duplicate-driving",
    "outputId": "1757d86e-30f5-4497-c800-bef71be9584a",
    "papermill": {
     "duration": 0.049532,
     "end_time": "2021-04-17T20:52:53.437634",
     "exception": false,
     "start_time": "2021-04-17T20:52:53.388102",
     "status": "completed"
    },
    "tags": []
   },
   "outputs": [
    {
     "data": {
      "text/html": [
       "<div>\n",
       "<style scoped>\n",
       "    .dataframe tbody tr th:only-of-type {\n",
       "        vertical-align: middle;\n",
       "    }\n",
       "\n",
       "    .dataframe tbody tr th {\n",
       "        vertical-align: top;\n",
       "    }\n",
       "\n",
       "    .dataframe thead th {\n",
       "        text-align: right;\n",
       "    }\n",
       "</style>\n",
       "<table border=\"1\" class=\"dataframe\">\n",
       "  <thead>\n",
       "    <tr style=\"text-align: right;\">\n",
       "      <th></th>\n",
       "      <th>row_id</th>\n",
       "      <th>site</th>\n",
       "      <th>audio_id</th>\n",
       "      <th>seconds</th>\n",
       "      <th>birds_x</th>\n",
       "      <th>birds_y</th>\n",
       "    </tr>\n",
       "  </thead>\n",
       "  <tbody>\n",
       "    <tr>\n",
       "      <th>240</th>\n",
       "      <td>11254_COR_5</td>\n",
       "      <td>COR</td>\n",
       "      <td>11254</td>\n",
       "      <td>5</td>\n",
       "      <td>rubwre1</td>\n",
       "      <td>wbwwre1 burwar1</td>\n",
       "    </tr>\n",
       "    <tr>\n",
       "      <th>242</th>\n",
       "      <td>11254_COR_15</td>\n",
       "      <td>COR</td>\n",
       "      <td>11254</td>\n",
       "      <td>15</td>\n",
       "      <td>rubwre1</td>\n",
       "      <td>nocall</td>\n",
       "    </tr>\n",
       "    <tr>\n",
       "      <th>244</th>\n",
       "      <td>11254_COR_25</td>\n",
       "      <td>COR</td>\n",
       "      <td>11254</td>\n",
       "      <td>25</td>\n",
       "      <td>rubwre1</td>\n",
       "      <td>nocall</td>\n",
       "    </tr>\n",
       "    <tr>\n",
       "      <th>267</th>\n",
       "      <td>11254_COR_140</td>\n",
       "      <td>COR</td>\n",
       "      <td>11254</td>\n",
       "      <td>140</td>\n",
       "      <td>obnthr1</td>\n",
       "      <td>nocall</td>\n",
       "    </tr>\n",
       "    <tr>\n",
       "      <th>268</th>\n",
       "      <td>11254_COR_145</td>\n",
       "      <td>COR</td>\n",
       "      <td>11254</td>\n",
       "      <td>145</td>\n",
       "      <td>obnthr1</td>\n",
       "      <td>nocall</td>\n",
       "    </tr>\n",
       "    <tr>\n",
       "      <th>...</th>\n",
       "      <td>...</td>\n",
       "      <td>...</td>\n",
       "      <td>...</td>\n",
       "      <td>...</td>\n",
       "      <td>...</td>\n",
       "      <td>...</td>\n",
       "    </tr>\n",
       "    <tr>\n",
       "      <th>2391</th>\n",
       "      <td>54955_SSW_560</td>\n",
       "      <td>SSW</td>\n",
       "      <td>54955</td>\n",
       "      <td>560</td>\n",
       "      <td>grycat</td>\n",
       "      <td>nocall</td>\n",
       "    </tr>\n",
       "    <tr>\n",
       "      <th>2393</th>\n",
       "      <td>54955_SSW_570</td>\n",
       "      <td>SSW</td>\n",
       "      <td>54955</td>\n",
       "      <td>570</td>\n",
       "      <td>grycat</td>\n",
       "      <td>nocall</td>\n",
       "    </tr>\n",
       "    <tr>\n",
       "      <th>2394</th>\n",
       "      <td>54955_SSW_575</td>\n",
       "      <td>SSW</td>\n",
       "      <td>54955</td>\n",
       "      <td>575</td>\n",
       "      <td>chswar</td>\n",
       "      <td>nocall</td>\n",
       "    </tr>\n",
       "    <tr>\n",
       "      <th>2396</th>\n",
       "      <td>54955_SSW_585</td>\n",
       "      <td>SSW</td>\n",
       "      <td>54955</td>\n",
       "      <td>585</td>\n",
       "      <td>grycat</td>\n",
       "      <td>nocall</td>\n",
       "    </tr>\n",
       "    <tr>\n",
       "      <th>2397</th>\n",
       "      <td>54955_SSW_590</td>\n",
       "      <td>SSW</td>\n",
       "      <td>54955</td>\n",
       "      <td>590</td>\n",
       "      <td>grycat</td>\n",
       "      <td>nocall</td>\n",
       "    </tr>\n",
       "  </tbody>\n",
       "</table>\n",
       "<p>871 rows × 6 columns</p>\n",
       "</div>"
      ],
      "text/plain": [
       "             row_id site  audio_id  seconds  birds_x           birds_y\n",
       "240     11254_COR_5  COR     11254        5  rubwre1  wbwwre1 burwar1 \n",
       "242    11254_COR_15  COR     11254       15  rubwre1           nocall \n",
       "244    11254_COR_25  COR     11254       25  rubwre1           nocall \n",
       "267   11254_COR_140  COR     11254      140  obnthr1           nocall \n",
       "268   11254_COR_145  COR     11254      145  obnthr1           nocall \n",
       "...             ...  ...       ...      ...      ...               ...\n",
       "2391  54955_SSW_560  SSW     54955      560   grycat           nocall \n",
       "2393  54955_SSW_570  SSW     54955      570   grycat           nocall \n",
       "2394  54955_SSW_575  SSW     54955      575   chswar           nocall \n",
       "2396  54955_SSW_585  SSW     54955      585   grycat           nocall \n",
       "2397  54955_SSW_590  SSW     54955      590   grycat           nocall \n",
       "\n",
       "[871 rows x 6 columns]"
      ]
     },
     "execution_count": 34,
     "metadata": {
      "tags": []
     },
     "output_type": "execute_result"
    }
   ],
   "source": [
    "sub_target[sub_target.birds_x != \"nocall\"]"
   ]
  },
  {
   "cell_type": "code",
   "execution_count": null,
   "id": "circular-cooperation",
   "metadata": {
    "id": "circular-cooperation",
    "papermill": {
     "duration": 0.030297,
     "end_time": "2021-04-17T20:52:53.498185",
     "exception": false,
     "start_time": "2021-04-17T20:52:53.467888",
     "status": "completed"
    },
    "tags": []
   },
   "outputs": [],
   "source": []
  },
  {
   "cell_type": "code",
   "execution_count": null,
   "id": "OJg5h44pNPl4",
   "metadata": {
    "id": "OJg5h44pNPl4"
   },
   "outputs": [],
   "source": []
  }
 ],
 "metadata": {
  "accelerator": "GPU",
  "colab": {
   "collapsed_sections": [],
   "name": "bird2_inference_bairdsname_vot.ipynb",
   "provenance": [],
   "toc_visible": true
  },
  "kernelspec": {
   "display_name": "Python 3",
   "language": "python",
   "name": "python3"
  },
  "language_info": {
   "codemirror_mode": {
    "name": "ipython",
    "version": 3
   },
   "file_extension": ".py",
   "mimetype": "text/x-python",
   "name": "python",
   "nbconvert_exporter": "python",
   "pygments_lexer": "ipython3",
   "version": "3.8.5"
  },
  "papermill": {
   "default_parameters": {},
   "duration": 122.851087,
   "end_time": "2021-04-17T20:52:55.604169",
   "environment_variables": {},
   "exception": null,
   "input_path": "__notebook__.ipynb",
   "output_path": "__notebook__.ipynb",
   "parameters": {},
   "start_time": "2021-04-17T20:50:52.753082",
   "version": "2.3.2"
  },
  "toc": {
   "base_numbering": 1,
   "nav_menu": {},
   "number_sections": true,
   "sideBar": true,
   "skip_h1_title": false,
   "title_cell": "Table of Contents",
   "title_sidebar": "Contents",
   "toc_cell": false,
   "toc_position": {},
   "toc_section_display": true,
   "toc_window_display": false
  },
  "varInspector": {
   "cols": {
    "lenName": 16,
    "lenType": 16,
    "lenVar": 40
   },
   "kernels_config": {
    "python": {
     "delete_cmd_postfix": "",
     "delete_cmd_prefix": "del ",
     "library": "var_list.py",
     "varRefreshCmd": "print(var_dic_list())"
    },
    "r": {
     "delete_cmd_postfix": ") ",
     "delete_cmd_prefix": "rm(",
     "library": "var_list.r",
     "varRefreshCmd": "cat(var_dic_list()) "
    }
   },
   "types_to_exclude": [
    "module",
    "function",
    "builtin_function_or_method",
    "instance",
    "_Feature"
   ],
   "window_display": false
  },
  "widgets": {
   "application/vnd.jupyter.widget-state+json": {
    "0244a628c09d487fa3f264160ad202ee": {
     "model_module": "@jupyter-widgets/base",
     "model_name": "LayoutModel",
     "state": {
      "_model_module": "@jupyter-widgets/base",
      "_model_module_version": "1.2.0",
      "_model_name": "LayoutModel",
      "_view_count": null,
      "_view_module": "@jupyter-widgets/base",
      "_view_module_version": "1.2.0",
      "_view_name": "LayoutView",
      "align_content": null,
      "align_items": null,
      "align_self": null,
      "border": null,
      "bottom": null,
      "display": null,
      "flex": null,
      "flex_flow": null,
      "grid_area": null,
      "grid_auto_columns": null,
      "grid_auto_flow": null,
      "grid_auto_rows": null,
      "grid_column": null,
      "grid_gap": null,
      "grid_row": null,
      "grid_template_areas": null,
      "grid_template_columns": null,
      "grid_template_rows": null,
      "height": null,
      "justify_content": null,
      "justify_items": null,
      "left": null,
      "margin": null,
      "max_height": null,
      "max_width": null,
      "min_height": null,
      "min_width": null,
      "object_fit": null,
      "object_position": null,
      "order": null,
      "overflow": null,
      "overflow_x": null,
      "overflow_y": null,
      "padding": null,
      "right": null,
      "top": null,
      "visibility": null,
      "width": null
     }
    },
    "06bb7c42a5574e308c48e56ed8191528": {
     "model_module": "@jupyter-widgets/controls",
     "model_name": "DescriptionStyleModel",
     "state": {
      "_model_module": "@jupyter-widgets/controls",
      "_model_module_version": "1.5.0",
      "_model_name": "DescriptionStyleModel",
      "_view_count": null,
      "_view_module": "@jupyter-widgets/base",
      "_view_module_version": "1.2.0",
      "_view_name": "StyleView",
      "description_width": ""
     }
    },
    "0cbbda2e8436474aad3a0916f2be3a3e": {
     "model_module": "@jupyter-widgets/base",
     "model_name": "LayoutModel",
     "state": {
      "_model_module": "@jupyter-widgets/base",
      "_model_module_version": "1.2.0",
      "_model_name": "LayoutModel",
      "_view_count": null,
      "_view_module": "@jupyter-widgets/base",
      "_view_module_version": "1.2.0",
      "_view_name": "LayoutView",
      "align_content": null,
      "align_items": null,
      "align_self": null,
      "border": null,
      "bottom": null,
      "display": null,
      "flex": null,
      "flex_flow": null,
      "grid_area": null,
      "grid_auto_columns": null,
      "grid_auto_flow": null,
      "grid_auto_rows": null,
      "grid_column": null,
      "grid_gap": null,
      "grid_row": null,
      "grid_template_areas": null,
      "grid_template_columns": null,
      "grid_template_rows": null,
      "height": null,
      "justify_content": null,
      "justify_items": null,
      "left": null,
      "margin": null,
      "max_height": null,
      "max_width": null,
      "min_height": null,
      "min_width": null,
      "object_fit": null,
      "object_position": null,
      "order": null,
      "overflow": null,
      "overflow_x": null,
      "overflow_y": null,
      "padding": null,
      "right": null,
      "top": null,
      "visibility": null,
      "width": null
     }
    },
    "20daa1fc34884a7c9f70c213d9d69614": {
     "model_module": "@jupyter-widgets/base",
     "model_name": "LayoutModel",
     "state": {
      "_model_module": "@jupyter-widgets/base",
      "_model_module_version": "1.2.0",
      "_model_name": "LayoutModel",
      "_view_count": null,
      "_view_module": "@jupyter-widgets/base",
      "_view_module_version": "1.2.0",
      "_view_name": "LayoutView",
      "align_content": null,
      "align_items": null,
      "align_self": null,
      "border": null,
      "bottom": null,
      "display": null,
      "flex": null,
      "flex_flow": null,
      "grid_area": null,
      "grid_auto_columns": null,
      "grid_auto_flow": null,
      "grid_auto_rows": null,
      "grid_column": null,
      "grid_gap": null,
      "grid_row": null,
      "grid_template_areas": null,
      "grid_template_columns": null,
      "grid_template_rows": null,
      "height": null,
      "justify_content": null,
      "justify_items": null,
      "left": null,
      "margin": null,
      "max_height": null,
      "max_width": null,
      "min_height": null,
      "min_width": null,
      "object_fit": null,
      "object_position": null,
      "order": null,
      "overflow": null,
      "overflow_x": null,
      "overflow_y": null,
      "padding": null,
      "right": null,
      "top": null,
      "visibility": null,
      "width": null
     }
    },
    "2eb75d20a644416497d9c68affd5a9b6": {
     "model_module": "@jupyter-widgets/controls",
     "model_name": "FloatProgressModel",
     "state": {
      "_dom_classes": [],
      "_model_module": "@jupyter-widgets/controls",
      "_model_module_version": "1.5.0",
      "_model_name": "FloatProgressModel",
      "_view_count": null,
      "_view_module": "@jupyter-widgets/controls",
      "_view_module_version": "1.5.0",
      "_view_name": "ProgressView",
      "bar_style": "success",
      "description": "100%",
      "description_tooltip": null,
      "layout": "IPY_MODEL_6016e05c485f404db23df98222b5e261",
      "max": 20,
      "min": 0,
      "orientation": "horizontal",
      "style": "IPY_MODEL_90fd298f96b148628f889819f95073c0",
      "value": 20
     }
    },
    "48bbbb1522184647b23da15c7e57d27b": {
     "model_module": "@jupyter-widgets/controls",
     "model_name": "FloatProgressModel",
     "state": {
      "_dom_classes": [],
      "_model_module": "@jupyter-widgets/controls",
      "_model_module_version": "1.5.0",
      "_model_name": "FloatProgressModel",
      "_view_count": null,
      "_view_module": "@jupyter-widgets/controls",
      "_view_module_version": "1.5.0",
      "_view_name": "ProgressView",
      "bar_style": "success",
      "description": "100%",
      "description_tooltip": null,
      "layout": "IPY_MODEL_0cbbda2e8436474aad3a0916f2be3a3e",
      "max": 20,
      "min": 0,
      "orientation": "horizontal",
      "style": "IPY_MODEL_aca8c4fcd9fc4904ac807350c28d180c",
      "value": 20
     }
    },
    "4d3666e97ff7479fbe1b084b8d3d0555": {
     "model_module": "@jupyter-widgets/base",
     "model_name": "LayoutModel",
     "state": {
      "_model_module": "@jupyter-widgets/base",
      "_model_module_version": "1.2.0",
      "_model_name": "LayoutModel",
      "_view_count": null,
      "_view_module": "@jupyter-widgets/base",
      "_view_module_version": "1.2.0",
      "_view_name": "LayoutView",
      "align_content": null,
      "align_items": null,
      "align_self": null,
      "border": null,
      "bottom": null,
      "display": null,
      "flex": null,
      "flex_flow": null,
      "grid_area": null,
      "grid_auto_columns": null,
      "grid_auto_flow": null,
      "grid_auto_rows": null,
      "grid_column": null,
      "grid_gap": null,
      "grid_row": null,
      "grid_template_areas": null,
      "grid_template_columns": null,
      "grid_template_rows": null,
      "height": null,
      "justify_content": null,
      "justify_items": null,
      "left": null,
      "margin": null,
      "max_height": null,
      "max_width": null,
      "min_height": null,
      "min_width": null,
      "object_fit": null,
      "object_position": null,
      "order": null,
      "overflow": null,
      "overflow_x": null,
      "overflow_y": null,
      "padding": null,
      "right": null,
      "top": null,
      "visibility": null,
      "width": null
     }
    },
    "5aadca662e824cfda4e7310967f4f1b5": {
     "model_module": "@jupyter-widgets/controls",
     "model_name": "DescriptionStyleModel",
     "state": {
      "_model_module": "@jupyter-widgets/controls",
      "_model_module_version": "1.5.0",
      "_model_name": "DescriptionStyleModel",
      "_view_count": null,
      "_view_module": "@jupyter-widgets/base",
      "_view_module_version": "1.2.0",
      "_view_name": "StyleView",
      "description_width": ""
     }
    },
    "5b48d45548cd4513ba7aba0c64632dc8": {
     "model_module": "@jupyter-widgets/controls",
     "model_name": "HBoxModel",
     "state": {
      "_dom_classes": [],
      "_model_module": "@jupyter-widgets/controls",
      "_model_module_version": "1.5.0",
      "_model_name": "HBoxModel",
      "_view_count": null,
      "_view_module": "@jupyter-widgets/controls",
      "_view_module_version": "1.5.0",
      "_view_name": "HBoxView",
      "box_style": "",
      "children": [
       "IPY_MODEL_48bbbb1522184647b23da15c7e57d27b",
       "IPY_MODEL_d31f99c1548940d98ae5ad9a09a2a2c0"
      ],
      "layout": "IPY_MODEL_aa318bdc1b9b4139b18eb50345ceabbe"
     }
    },
    "6016e05c485f404db23df98222b5e261": {
     "model_module": "@jupyter-widgets/base",
     "model_name": "LayoutModel",
     "state": {
      "_model_module": "@jupyter-widgets/base",
      "_model_module_version": "1.2.0",
      "_model_name": "LayoutModel",
      "_view_count": null,
      "_view_module": "@jupyter-widgets/base",
      "_view_module_version": "1.2.0",
      "_view_name": "LayoutView",
      "align_content": null,
      "align_items": null,
      "align_self": null,
      "border": null,
      "bottom": null,
      "display": null,
      "flex": null,
      "flex_flow": null,
      "grid_area": null,
      "grid_auto_columns": null,
      "grid_auto_flow": null,
      "grid_auto_rows": null,
      "grid_column": null,
      "grid_gap": null,
      "grid_row": null,
      "grid_template_areas": null,
      "grid_template_columns": null,
      "grid_template_rows": null,
      "height": null,
      "justify_content": null,
      "justify_items": null,
      "left": null,
      "margin": null,
      "max_height": null,
      "max_width": null,
      "min_height": null,
      "min_width": null,
      "object_fit": null,
      "object_position": null,
      "order": null,
      "overflow": null,
      "overflow_x": null,
      "overflow_y": null,
      "padding": null,
      "right": null,
      "top": null,
      "visibility": null,
      "width": null
     }
    },
    "6182ed162713417291082a6eb4f071bf": {
     "model_module": "@jupyter-widgets/controls",
     "model_name": "HBoxModel",
     "state": {
      "_dom_classes": [],
      "_model_module": "@jupyter-widgets/controls",
      "_model_module_version": "1.5.0",
      "_model_name": "HBoxModel",
      "_view_count": null,
      "_view_module": "@jupyter-widgets/controls",
      "_view_module_version": "1.5.0",
      "_view_name": "HBoxView",
      "box_style": "",
      "children": [
       "IPY_MODEL_f30adcba920547cf8e3e5facee0e1769",
       "IPY_MODEL_d824e6390db34597a643f5a80aeb0f02"
      ],
      "layout": "IPY_MODEL_6d4901af85ad4a72998386197985be0d"
     }
    },
    "67ee0b093a8b468886c3660611ffacb1": {
     "model_module": "@jupyter-widgets/controls",
     "model_name": "DescriptionStyleModel",
     "state": {
      "_model_module": "@jupyter-widgets/controls",
      "_model_module_version": "1.5.0",
      "_model_name": "DescriptionStyleModel",
      "_view_count": null,
      "_view_module": "@jupyter-widgets/base",
      "_view_module_version": "1.2.0",
      "_view_name": "StyleView",
      "description_width": ""
     }
    },
    "6d4901af85ad4a72998386197985be0d": {
     "model_module": "@jupyter-widgets/base",
     "model_name": "LayoutModel",
     "state": {
      "_model_module": "@jupyter-widgets/base",
      "_model_module_version": "1.2.0",
      "_model_name": "LayoutModel",
      "_view_count": null,
      "_view_module": "@jupyter-widgets/base",
      "_view_module_version": "1.2.0",
      "_view_name": "LayoutView",
      "align_content": null,
      "align_items": null,
      "align_self": null,
      "border": null,
      "bottom": null,
      "display": null,
      "flex": null,
      "flex_flow": null,
      "grid_area": null,
      "grid_auto_columns": null,
      "grid_auto_flow": null,
      "grid_auto_rows": null,
      "grid_column": null,
      "grid_gap": null,
      "grid_row": null,
      "grid_template_areas": null,
      "grid_template_columns": null,
      "grid_template_rows": null,
      "height": null,
      "justify_content": null,
      "justify_items": null,
      "left": null,
      "margin": null,
      "max_height": null,
      "max_width": null,
      "min_height": null,
      "min_width": null,
      "object_fit": null,
      "object_position": null,
      "order": null,
      "overflow": null,
      "overflow_x": null,
      "overflow_y": null,
      "padding": null,
      "right": null,
      "top": null,
      "visibility": null,
      "width": null
     }
    },
    "866ec5361cb54d03b940d8e0de38b281": {
     "model_module": "@jupyter-widgets/controls",
     "model_name": "HTMLModel",
     "state": {
      "_dom_classes": [],
      "_model_module": "@jupyter-widgets/controls",
      "_model_module_version": "1.5.0",
      "_model_name": "HTMLModel",
      "_view_count": null,
      "_view_module": "@jupyter-widgets/controls",
      "_view_module_version": "1.5.0",
      "_view_name": "HTMLView",
      "description": "",
      "description_tooltip": null,
      "layout": "IPY_MODEL_20daa1fc34884a7c9f70c213d9d69614",
      "placeholder": "​",
      "style": "IPY_MODEL_06bb7c42a5574e308c48e56ed8191528",
      "value": " 20/20 [01:23&lt;00:00,  4.16s/it]"
     }
    },
    "90fd298f96b148628f889819f95073c0": {
     "model_module": "@jupyter-widgets/controls",
     "model_name": "ProgressStyleModel",
     "state": {
      "_model_module": "@jupyter-widgets/controls",
      "_model_module_version": "1.5.0",
      "_model_name": "ProgressStyleModel",
      "_view_count": null,
      "_view_module": "@jupyter-widgets/base",
      "_view_module_version": "1.2.0",
      "_view_name": "StyleView",
      "bar_color": null,
      "description_width": "initial"
     }
    },
    "aa318bdc1b9b4139b18eb50345ceabbe": {
     "model_module": "@jupyter-widgets/base",
     "model_name": "LayoutModel",
     "state": {
      "_model_module": "@jupyter-widgets/base",
      "_model_module_version": "1.2.0",
      "_model_name": "LayoutModel",
      "_view_count": null,
      "_view_module": "@jupyter-widgets/base",
      "_view_module_version": "1.2.0",
      "_view_name": "LayoutView",
      "align_content": null,
      "align_items": null,
      "align_self": null,
      "border": null,
      "bottom": null,
      "display": null,
      "flex": null,
      "flex_flow": null,
      "grid_area": null,
      "grid_auto_columns": null,
      "grid_auto_flow": null,
      "grid_auto_rows": null,
      "grid_column": null,
      "grid_gap": null,
      "grid_row": null,
      "grid_template_areas": null,
      "grid_template_columns": null,
      "grid_template_rows": null,
      "height": null,
      "justify_content": null,
      "justify_items": null,
      "left": null,
      "margin": null,
      "max_height": null,
      "max_width": null,
      "min_height": null,
      "min_width": null,
      "object_fit": null,
      "object_position": null,
      "order": null,
      "overflow": null,
      "overflow_x": null,
      "overflow_y": null,
      "padding": null,
      "right": null,
      "top": null,
      "visibility": null,
      "width": null
     }
    },
    "aca8c4fcd9fc4904ac807350c28d180c": {
     "model_module": "@jupyter-widgets/controls",
     "model_name": "ProgressStyleModel",
     "state": {
      "_model_module": "@jupyter-widgets/controls",
      "_model_module_version": "1.5.0",
      "_model_name": "ProgressStyleModel",
      "_view_count": null,
      "_view_module": "@jupyter-widgets/base",
      "_view_module_version": "1.2.0",
      "_view_name": "StyleView",
      "bar_color": null,
      "description_width": "initial"
     }
    },
    "afd29ef1a59e44e0903318c1aec16095": {
     "model_module": "@jupyter-widgets/controls",
     "model_name": "HBoxModel",
     "state": {
      "_dom_classes": [],
      "_model_module": "@jupyter-widgets/controls",
      "_model_module_version": "1.5.0",
      "_model_name": "HBoxModel",
      "_view_count": null,
      "_view_module": "@jupyter-widgets/controls",
      "_view_module_version": "1.5.0",
      "_view_name": "HBoxView",
      "box_style": "",
      "children": [
       "IPY_MODEL_2eb75d20a644416497d9c68affd5a9b6",
       "IPY_MODEL_866ec5361cb54d03b940d8e0de38b281"
      ],
      "layout": "IPY_MODEL_f091777572fe4c49b294e241228b340b"
     }
    },
    "b87f769c89254a169c9787631214220c": {
     "model_module": "@jupyter-widgets/base",
     "model_name": "LayoutModel",
     "state": {
      "_model_module": "@jupyter-widgets/base",
      "_model_module_version": "1.2.0",
      "_model_name": "LayoutModel",
      "_view_count": null,
      "_view_module": "@jupyter-widgets/base",
      "_view_module_version": "1.2.0",
      "_view_name": "LayoutView",
      "align_content": null,
      "align_items": null,
      "align_self": null,
      "border": null,
      "bottom": null,
      "display": null,
      "flex": null,
      "flex_flow": null,
      "grid_area": null,
      "grid_auto_columns": null,
      "grid_auto_flow": null,
      "grid_auto_rows": null,
      "grid_column": null,
      "grid_gap": null,
      "grid_row": null,
      "grid_template_areas": null,
      "grid_template_columns": null,
      "grid_template_rows": null,
      "height": null,
      "justify_content": null,
      "justify_items": null,
      "left": null,
      "margin": null,
      "max_height": null,
      "max_width": null,
      "min_height": null,
      "min_width": null,
      "object_fit": null,
      "object_position": null,
      "order": null,
      "overflow": null,
      "overflow_x": null,
      "overflow_y": null,
      "padding": null,
      "right": null,
      "top": null,
      "visibility": null,
      "width": null
     }
    },
    "bbb6aa090df0419786a3f124e78de79f": {
     "model_module": "@jupyter-widgets/controls",
     "model_name": "HBoxModel",
     "state": {
      "_dom_classes": [],
      "_model_module": "@jupyter-widgets/controls",
      "_model_module_version": "1.5.0",
      "_model_name": "HBoxModel",
      "_view_count": null,
      "_view_module": "@jupyter-widgets/controls",
      "_view_module_version": "1.5.0",
      "_view_name": "HBoxView",
      "box_style": "",
      "children": [
       "IPY_MODEL_bd2ad0be44954caf9af875079dd01536",
       "IPY_MODEL_e5e6d053db7d4a36b5dcf3da0f36f04c"
      ],
      "layout": "IPY_MODEL_c29aa2a73c2f4f96957305df2bedf4dc"
     }
    },
    "bd2ad0be44954caf9af875079dd01536": {
     "model_module": "@jupyter-widgets/controls",
     "model_name": "FloatProgressModel",
     "state": {
      "_dom_classes": [],
      "_model_module": "@jupyter-widgets/controls",
      "_model_module_version": "1.5.0",
      "_model_name": "FloatProgressModel",
      "_view_count": null,
      "_view_module": "@jupyter-widgets/controls",
      "_view_module_version": "1.5.0",
      "_view_name": "ProgressView",
      "bar_style": "success",
      "description": "100%",
      "description_tooltip": null,
      "layout": "IPY_MODEL_ed945d97cefc41fab7bdde8dce342fe6",
      "max": 20,
      "min": 0,
      "orientation": "horizontal",
      "style": "IPY_MODEL_c9b20732f42449c9bd58270530412419",
      "value": 20
     }
    },
    "c29aa2a73c2f4f96957305df2bedf4dc": {
     "model_module": "@jupyter-widgets/base",
     "model_name": "LayoutModel",
     "state": {
      "_model_module": "@jupyter-widgets/base",
      "_model_module_version": "1.2.0",
      "_model_name": "LayoutModel",
      "_view_count": null,
      "_view_module": "@jupyter-widgets/base",
      "_view_module_version": "1.2.0",
      "_view_name": "LayoutView",
      "align_content": null,
      "align_items": null,
      "align_self": null,
      "border": null,
      "bottom": null,
      "display": null,
      "flex": null,
      "flex_flow": null,
      "grid_area": null,
      "grid_auto_columns": null,
      "grid_auto_flow": null,
      "grid_auto_rows": null,
      "grid_column": null,
      "grid_gap": null,
      "grid_row": null,
      "grid_template_areas": null,
      "grid_template_columns": null,
      "grid_template_rows": null,
      "height": null,
      "justify_content": null,
      "justify_items": null,
      "left": null,
      "margin": null,
      "max_height": null,
      "max_width": null,
      "min_height": null,
      "min_width": null,
      "object_fit": null,
      "object_position": null,
      "order": null,
      "overflow": null,
      "overflow_x": null,
      "overflow_y": null,
      "padding": null,
      "right": null,
      "top": null,
      "visibility": null,
      "width": null
     }
    },
    "c568950c32894d3ba610b3fdc8a28d22": {
     "model_module": "@jupyter-widgets/controls",
     "model_name": "ProgressStyleModel",
     "state": {
      "_model_module": "@jupyter-widgets/controls",
      "_model_module_version": "1.5.0",
      "_model_name": "ProgressStyleModel",
      "_view_count": null,
      "_view_module": "@jupyter-widgets/base",
      "_view_module_version": "1.2.0",
      "_view_name": "StyleView",
      "bar_color": null,
      "description_width": "initial"
     }
    },
    "c9b20732f42449c9bd58270530412419": {
     "model_module": "@jupyter-widgets/controls",
     "model_name": "ProgressStyleModel",
     "state": {
      "_model_module": "@jupyter-widgets/controls",
      "_model_module_version": "1.5.0",
      "_model_name": "ProgressStyleModel",
      "_view_count": null,
      "_view_module": "@jupyter-widgets/base",
      "_view_module_version": "1.2.0",
      "_view_name": "StyleView",
      "bar_color": null,
      "description_width": "initial"
     }
    },
    "d31f99c1548940d98ae5ad9a09a2a2c0": {
     "model_module": "@jupyter-widgets/controls",
     "model_name": "HTMLModel",
     "state": {
      "_dom_classes": [],
      "_model_module": "@jupyter-widgets/controls",
      "_model_module_version": "1.5.0",
      "_model_name": "HTMLModel",
      "_view_count": null,
      "_view_module": "@jupyter-widgets/controls",
      "_view_module_version": "1.5.0",
      "_view_name": "HTMLView",
      "description": "",
      "description_tooltip": null,
      "layout": "IPY_MODEL_b87f769c89254a169c9787631214220c",
      "placeholder": "​",
      "style": "IPY_MODEL_ffba052b6f0242cebe339f9bdc462d22",
      "value": " 20/20 [03:01&lt;00:00,  9.06s/it]"
     }
    },
    "d824e6390db34597a643f5a80aeb0f02": {
     "model_module": "@jupyter-widgets/controls",
     "model_name": "HTMLModel",
     "state": {
      "_dom_classes": [],
      "_model_module": "@jupyter-widgets/controls",
      "_model_module_version": "1.5.0",
      "_model_name": "HTMLModel",
      "_view_count": null,
      "_view_module": "@jupyter-widgets/controls",
      "_view_module_version": "1.5.0",
      "_view_name": "HTMLView",
      "description": "",
      "description_tooltip": null,
      "layout": "IPY_MODEL_4d3666e97ff7479fbe1b084b8d3d0555",
      "placeholder": "​",
      "style": "IPY_MODEL_5aadca662e824cfda4e7310967f4f1b5",
      "value": " 20/20 [05:52&lt;00:00, 17.63s/it]"
     }
    },
    "e11c60d48ea848e9970d6d8c526a8d83": {
     "model_module": "@jupyter-widgets/base",
     "model_name": "LayoutModel",
     "state": {
      "_model_module": "@jupyter-widgets/base",
      "_model_module_version": "1.2.0",
      "_model_name": "LayoutModel",
      "_view_count": null,
      "_view_module": "@jupyter-widgets/base",
      "_view_module_version": "1.2.0",
      "_view_name": "LayoutView",
      "align_content": null,
      "align_items": null,
      "align_self": null,
      "border": null,
      "bottom": null,
      "display": null,
      "flex": null,
      "flex_flow": null,
      "grid_area": null,
      "grid_auto_columns": null,
      "grid_auto_flow": null,
      "grid_auto_rows": null,
      "grid_column": null,
      "grid_gap": null,
      "grid_row": null,
      "grid_template_areas": null,
      "grid_template_columns": null,
      "grid_template_rows": null,
      "height": null,
      "justify_content": null,
      "justify_items": null,
      "left": null,
      "margin": null,
      "max_height": null,
      "max_width": null,
      "min_height": null,
      "min_width": null,
      "object_fit": null,
      "object_position": null,
      "order": null,
      "overflow": null,
      "overflow_x": null,
      "overflow_y": null,
      "padding": null,
      "right": null,
      "top": null,
      "visibility": null,
      "width": null
     }
    },
    "e5e6d053db7d4a36b5dcf3da0f36f04c": {
     "model_module": "@jupyter-widgets/controls",
     "model_name": "HTMLModel",
     "state": {
      "_dom_classes": [],
      "_model_module": "@jupyter-widgets/controls",
      "_model_module_version": "1.5.0",
      "_model_name": "HTMLModel",
      "_view_count": null,
      "_view_module": "@jupyter-widgets/controls",
      "_view_module_version": "1.5.0",
      "_view_name": "HTMLView",
      "description": "",
      "description_tooltip": null,
      "layout": "IPY_MODEL_e11c60d48ea848e9970d6d8c526a8d83",
      "placeholder": "​",
      "style": "IPY_MODEL_67ee0b093a8b468886c3660611ffacb1",
      "value": " 20/20 [01:22&lt;00:00,  4.11s/it]"
     }
    },
    "ed945d97cefc41fab7bdde8dce342fe6": {
     "model_module": "@jupyter-widgets/base",
     "model_name": "LayoutModel",
     "state": {
      "_model_module": "@jupyter-widgets/base",
      "_model_module_version": "1.2.0",
      "_model_name": "LayoutModel",
      "_view_count": null,
      "_view_module": "@jupyter-widgets/base",
      "_view_module_version": "1.2.0",
      "_view_name": "LayoutView",
      "align_content": null,
      "align_items": null,
      "align_self": null,
      "border": null,
      "bottom": null,
      "display": null,
      "flex": null,
      "flex_flow": null,
      "grid_area": null,
      "grid_auto_columns": null,
      "grid_auto_flow": null,
      "grid_auto_rows": null,
      "grid_column": null,
      "grid_gap": null,
      "grid_row": null,
      "grid_template_areas": null,
      "grid_template_columns": null,
      "grid_template_rows": null,
      "height": null,
      "justify_content": null,
      "justify_items": null,
      "left": null,
      "margin": null,
      "max_height": null,
      "max_width": null,
      "min_height": null,
      "min_width": null,
      "object_fit": null,
      "object_position": null,
      "order": null,
      "overflow": null,
      "overflow_x": null,
      "overflow_y": null,
      "padding": null,
      "right": null,
      "top": null,
      "visibility": null,
      "width": null
     }
    },
    "f091777572fe4c49b294e241228b340b": {
     "model_module": "@jupyter-widgets/base",
     "model_name": "LayoutModel",
     "state": {
      "_model_module": "@jupyter-widgets/base",
      "_model_module_version": "1.2.0",
      "_model_name": "LayoutModel",
      "_view_count": null,
      "_view_module": "@jupyter-widgets/base",
      "_view_module_version": "1.2.0",
      "_view_name": "LayoutView",
      "align_content": null,
      "align_items": null,
      "align_self": null,
      "border": null,
      "bottom": null,
      "display": null,
      "flex": null,
      "flex_flow": null,
      "grid_area": null,
      "grid_auto_columns": null,
      "grid_auto_flow": null,
      "grid_auto_rows": null,
      "grid_column": null,
      "grid_gap": null,
      "grid_row": null,
      "grid_template_areas": null,
      "grid_template_columns": null,
      "grid_template_rows": null,
      "height": null,
      "justify_content": null,
      "justify_items": null,
      "left": null,
      "margin": null,
      "max_height": null,
      "max_width": null,
      "min_height": null,
      "min_width": null,
      "object_fit": null,
      "object_position": null,
      "order": null,
      "overflow": null,
      "overflow_x": null,
      "overflow_y": null,
      "padding": null,
      "right": null,
      "top": null,
      "visibility": null,
      "width": null
     }
    },
    "f30adcba920547cf8e3e5facee0e1769": {
     "model_module": "@jupyter-widgets/controls",
     "model_name": "FloatProgressModel",
     "state": {
      "_dom_classes": [],
      "_model_module": "@jupyter-widgets/controls",
      "_model_module_version": "1.5.0",
      "_model_name": "FloatProgressModel",
      "_view_count": null,
      "_view_module": "@jupyter-widgets/controls",
      "_view_module_version": "1.5.0",
      "_view_name": "ProgressView",
      "bar_style": "success",
      "description": "100%",
      "description_tooltip": null,
      "layout": "IPY_MODEL_0244a628c09d487fa3f264160ad202ee",
      "max": 20,
      "min": 0,
      "orientation": "horizontal",
      "style": "IPY_MODEL_c568950c32894d3ba610b3fdc8a28d22",
      "value": 20
     }
    },
    "ffba052b6f0242cebe339f9bdc462d22": {
     "model_module": "@jupyter-widgets/controls",
     "model_name": "DescriptionStyleModel",
     "state": {
      "_model_module": "@jupyter-widgets/controls",
      "_model_module_version": "1.5.0",
      "_model_name": "DescriptionStyleModel",
      "_view_count": null,
      "_view_module": "@jupyter-widgets/base",
      "_view_module_version": "1.2.0",
      "_view_name": "StyleView",
      "description_width": ""
     }
    }
   }
  }
 },
 "nbformat": 4,
 "nbformat_minor": 5
}
